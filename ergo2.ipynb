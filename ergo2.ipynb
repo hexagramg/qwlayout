{
 "cells": [
  {
   "cell_type": "code",
   "execution_count": 1,
   "metadata": {
    "autoscroll": false,
    "ein.hycell": false,
    "ein.tags": "worksheet-0",
    "slideshow": {
     "slide_type": "-"
    }
   },
   "outputs": [],
   "source": [
    "import pandas as pd\n",
    "import numpy as np\n",
    "import re\n",
    "import seaborn as sns\n",
    "from html.parser import HTMLParser\n",
    "import matplotlib.pyplot as plt\n",
    "import matplotlib as mtp\n",
    "#from numba import jit \n",
    "import copy\n",
    "#import numba as nb"
   ]
  },
  {
   "cell_type": "code",
   "execution_count": 2,
   "metadata": {
    "autoscroll": false,
    "ein.hycell": false,
    "ein.tags": "worksheet-0",
    "slideshow": {
     "slide_type": "-"
    }
   },
   "outputs": [],
   "source": [
    "mtp.rcParams['figure.figsize'] = [10, 10]\n",
    "sns.set_context('paper', font_scale=2)"
   ]
  },
  {
   "cell_type": "code",
   "execution_count": 151,
   "metadata": {
    "autoscroll": false,
    "ein.hycell": false,
    "ein.tags": "worksheet-0",
    "slideshow": {
     "slide_type": "-"
    }
   },
   "outputs": [],
   "source": [
    "data = pd.read_csv('dialogues.tsv', sep='\\t', header=0)"
   ]
  },
  {
   "cell_type": "code",
   "execution_count": 152,
   "metadata": {
    "autoscroll": false,
    "ein.hycell": false,
    "ein.tags": "worksheet-0",
    "slideshow": {
     "slide_type": "-"
    }
   },
   "outputs": [
    {
     "data": {
      "text/plain": [
       "'<span class=participant_2>Пользователь 2: Здравствуйте</span><br /><span class=participant_2>Пользователь 2: Я Леша</span><br /><span class=participant_1>Пользователь 1: Здравствуйте</span><br /><span class=participant_1>Пользователь 1: Я Егор</span><br /><span class=participant_2>Пользователь 2: Я учусь в 6 классе</span><br /><span class=participant_1>Пользователь 1: А мне 30 и я уже работаю</span><br /><span class=participant_2>Пользователь 2: А я тоже хочу. На машину скопить.</span><br /><span class=participant_1>Пользователь 1: Правда мне не нравится моя работа</span><br /><span class=participant_2>Пользователь 2: Почему?</span><br /><span class=participant_1>Пользователь 1: Мало платят</span><br /><span class=participant_1>Пользователь 1: На семью не хватает</span><br /><span class=participant_1>Пользователь 1: Жена и трое детей</span><br /><span class=participant_2>Пользователь 2: А... а я на машину...</span><br /><span class=participant_2>Пользователь 2: Ого</span><br />'"
      ]
     },
     "execution_count": 152,
     "metadata": {},
     "output_type": "execute_result"
    }
   ],
   "source": [
    "data.dialogue[3]"
   ]
  },
  {
   "cell_type": "code",
   "execution_count": 153,
   "metadata": {
    "autoscroll": false,
    "ein.hycell": false,
    "ein.tags": "worksheet-0",
    "slideshow": {
     "slide_type": "-"
    }
   },
   "outputs": [],
   "source": [
    "phrases = []"
   ]
  },
  {
   "cell_type": "code",
   "execution_count": 154,
   "metadata": {
    "autoscroll": false,
    "ein.hycell": false,
    "ein.tags": "worksheet-0",
    "slideshow": {
     "slide_type": "-"
    }
   },
   "outputs": [],
   "source": [
    "class DataParser(HTMLParser):\n",
    "    def handle_data(self, data):\n",
    "        splitted = data.split(':')\n",
    "        filtered =  re.sub(\"[^\\u0430-\\u044F ]\", \"\", ''.join(splitted[1:]).lower())\n",
    "        phrases.append(filtered)"
   ]
  },
  {
   "cell_type": "code",
   "execution_count": 155,
   "metadata": {
    "autoscroll": false,
    "ein.hycell": false,
    "ein.tags": "worksheet-0",
    "slideshow": {
     "slide_type": "-"
    }
   },
   "outputs": [],
   "source": [
    "parser = DataParser()"
   ]
  },
  {
   "cell_type": "code",
   "execution_count": 156,
   "metadata": {
    "autoscroll": false,
    "ein.hycell": false,
    "ein.tags": "worksheet-0",
    "slideshow": {
     "slide_type": "-"
    }
   },
   "outputs": [],
   "source": [
    "for episode in data[\"dialogue\"].to_numpy().tolist():\n",
    "    parser.feed(episode)"
   ]
  },
  {
   "cell_type": "code",
   "execution_count": 157,
   "metadata": {
    "autoscroll": false,
    "ein.hycell": false,
    "ein.tags": "worksheet-0",
    "slideshow": {
     "slide_type": "-"
    }
   },
   "outputs": [
    {
     "data": {
      "text/plain": [
       "' я продавец выращиванию овощи и фрукты на даче и продаю'"
      ]
     },
     "execution_count": 157,
     "metadata": {},
     "output_type": "execute_result"
    }
   ],
   "source": [
    "phrases[101]"
   ]
  },
  {
   "cell_type": "code",
   "execution_count": 158,
   "metadata": {
    "autoscroll": false,
    "ein.hycell": false,
    "ein.tags": "worksheet-0",
    "slideshow": {
     "slide_type": "-"
    }
   },
   "outputs": [],
   "source": [
    "firstDimenstion = dict()"
   ]
  },
  {
   "cell_type": "code",
   "execution_count": 159,
   "metadata": {
    "autoscroll": false,
    "ein.hycell": false,
    "ein.tags": "worksheet-0",
    "slideshow": {
     "slide_type": "-"
    }
   },
   "outputs": [],
   "source": [
    "def incOrAdd(key, dictionary):\n",
    "    if key not in dictionary:\n",
    "        dictionary[key] = 1\n",
    "    else: \n",
    "        dictionary[key] += 1"
   ]
  },
  {
   "cell_type": "code",
   "execution_count": 160,
   "metadata": {
    "autoscroll": false,
    "ein.hycell": false,
    "ein.tags": "worksheet-0",
    "slideshow": {
     "slide_type": "-"
    }
   },
   "outputs": [],
   "source": [
    "for phrase in phrases:\n",
    "    for symb in phrase:\n",
    "        if symb != ' ':\n",
    "            incOrAdd(symb, firstDimenstion)\n",
    "        \n",
    "            "
   ]
  },
  {
   "cell_type": "code",
   "execution_count": 161,
   "metadata": {
    "autoscroll": false,
    "ein.hycell": false,
    "ein.tags": "worksheet-0",
    "slideshow": {
     "slide_type": "-"
    }
   },
   "outputs": [
    {
     "data": {
      "text/plain": [
       "220827"
      ]
     },
     "execution_count": 161,
     "metadata": {},
     "output_type": "execute_result"
    }
   ],
   "source": [
    "firstDimenstion[\"в\"]"
   ]
  },
  {
   "cell_type": "code",
   "execution_count": 162,
   "metadata": {
    "autoscroll": false,
    "ein.hycell": false,
    "ein.tags": "worksheet-0",
    "slideshow": {
     "slide_type": "-"
    }
   },
   "outputs": [],
   "source": [
    "labels = [['й', 'ц', 'у', 'к', 'е', 'н', 'г', 'ш', 'щ', 'з', 'х', 'ъ'], \n",
    "             ['ф', 'ы', 'в', 'а', 'п', 'р', 'о', 'л', 'д', 'ж', 'э', ''],\n",
    "              ['я', 'ч', 'с', 'м', 'и', 'т', 'ь', 'б', 'ю', '', '', '']]"
   ]
  },
  {
   "cell_type": "code",
   "execution_count": 163,
   "metadata": {
    "autoscroll": false,
    "ein.hycell": false,
    "ein.tags": "worksheet-0",
    "slideshow": {
     "slide_type": "-"
    }
   },
   "outputs": [],
   "source": [
    "depth = []\n",
    "for row in labels: \n",
    "    drow = []\n",
    "    for label in row:\n",
    "        if label != '':\n",
    "            drow.append(firstDimenstion[label])\n",
    "        else: \n",
    "            drow.append(0)\n",
    "    depth.append(drow)\n"
   ]
  },
  {
   "cell_type": "code",
   "execution_count": 164,
   "metadata": {
    "autoscroll": false,
    "ein.hycell": false,
    "ein.tags": "worksheet-0",
    "slideshow": {
     "slide_type": "-"
    }
   },
   "outputs": [
    {
     "data": {
      "image/png": "[encoded data removed]",
      "text/plain": [
       "<Figure size 720x720 with 2 Axes>"
      ]
     },
     "metadata": {},
     "output_type": "display_data"
    }
   ],
   "source": [
    "fig, ax = plt.subplots()\n",
    "ax = sns.heatmap(np.array(depth), annot = np.array(labels), fmt = '')"
   ]
  },
  {
   "cell_type": "code",
   "execution_count": 165,
   "metadata": {
    "autoscroll": false,
    "ein.hycell": false,
    "ein.tags": "worksheet-0",
    "slideshow": {
     "slide_type": "-"
    }
   },
   "outputs": [],
   "source": [
    "groups = [\"йфя\",\"цыч\",\"увс\",\"камепи\",\"нртгоь\",\"шлб\",\"щдю\",\"зжхэъ\"]"
   ]
  },
  {
   "cell_type": "code",
   "execution_count": 166,
   "metadata": {
    "autoscroll": false,
    "ein.hycell": false,
    "ein.tags": "worksheet-0",
    "slideshow": {
     "slide_type": "-"
    }
   },
   "outputs": [],
   "source": [
    "def generateSparse(depth):\n",
    "    sparseDimension = dict()\n",
    "    for phrase in phrases:\n",
    "        words = phrase.split(' ')\n",
    "        for word in words:\n",
    "            if len(word) > depth:\n",
    "                length = len(word)\n",
    "                for i,letter in enumerate(word):\n",
    "                    if i+depth < length:\n",
    "                        incOrAdd((letter,word[i+depth]), sparseDimension)\n",
    "    return sparseDimension\n",
    "                "
   ]
  },
  {
   "cell_type": "code",
   "execution_count": 167,
   "metadata": {
    "autoscroll": false,
    "ein.hycell": false,
    "ein.tags": "worksheet-0",
    "slideshow": {
     "slide_type": "-"
    }
   },
   "outputs": [],
   "source": [
    "sparse = generateSparse(1)"
   ]
  },
  {
   "cell_type": "code",
   "execution_count": 168,
   "metadata": {
    "autoscroll": false,
    "ein.hycell": false,
    "ein.tags": "worksheet-0",
    "slideshow": {
     "slide_type": "-"
    }
   },
   "outputs": [],
   "source": [
    "offset = 1072"
   ]
  },
  {
   "cell_type": "code",
   "execution_count": 169,
   "metadata": {
    "autoscroll": false,
    "ein.hycell": false,
    "ein.tags": "worksheet-0",
    "slideshow": {
     "slide_type": "-"
    }
   },
   "outputs": [],
   "source": [
    "delta = ord('я') - ord('а') +1"
   ]
  },
  {
   "cell_type": "code",
   "execution_count": 170,
   "metadata": {
    "autoscroll": false,
    "ein.hycell": false,
    "ein.tags": "worksheet-0",
    "slideshow": {
     "slide_type": "-"
    }
   },
   "outputs": [],
   "source": [
    "sparseArray = np.zeros((delta, delta))\n",
    "\n"
   ]
  },
  {
   "cell_type": "code",
   "execution_count": 171,
   "metadata": {
    "autoscroll": false,
    "ein.hycell": false,
    "ein.tags": "worksheet-0",
    "slideshow": {
     "slide_type": "-"
    }
   },
   "outputs": [],
   "source": [
    "for key in sparse:\n",
    "    sparseArray[ord(key[0])-offset][ord(key[1])-offset] = sparse[key]"
   ]
  },
  {
   "cell_type": "code",
   "execution_count": 172,
   "metadata": {
    "autoscroll": false,
    "ein.hycell": false,
    "ein.tags": "worksheet-0",
    "slideshow": {
     "slide_type": "-"
    }
   },
   "outputs": [],
   "source": [
    "x_axis_labels = [chr(x) for x in range (offset,offset+delta)]"
   ]
  },
  {
   "cell_type": "code",
   "execution_count": 172,
   "metadata": {
    "autoscroll": false,
    "ein.hycell": false,
    "ein.tags": "worksheet-0",
    "slideshow": {
     "slide_type": "-"
    }
   },
   "outputs": [],
   "source": []
  },
  {
   "cell_type": "code",
   "execution_count": 173,
   "metadata": {
    "autoscroll": false,
    "ein.hycell": false,
    "ein.tags": "worksheet-0",
    "slideshow": {
     "slide_type": "-"
    }
   },
   "outputs": [
    {
     "data": {
      "image/png": "[encoded data removed]",
      "text/plain": [
       "<Figure size 720x720 with 2 Axes>"
      ]
     },
     "metadata": {},
     "output_type": "display_data"
    }
   ],
   "source": [
    "fig, ax = plt.subplots()\n",
    "ax = sns.heatmap(sparseArray, fmt = '', xticklabels=x_axis_labels, yticklabels=x_axis_labels)"
   ]
  },
  {
   "cell_type": "code",
   "execution_count": 174,
   "metadata": {
    "autoscroll": false,
    "ein.hycell": false,
    "ein.tags": "worksheet-0",
    "slideshow": {
     "slide_type": "-"
    }
   },
   "outputs": [],
   "source": [
    "sparDf = pd.DataFrame(sparseArray)"
   ]
  },
  {
   "cell_type": "code",
   "execution_count": 175,
   "metadata": {
    "autoscroll": false,
    "ein.hycell": false,
    "ein.tags": "worksheet-0",
    "slideshow": {
     "slide_type": "-"
    }
   },
   "outputs": [],
   "source": [
    "sparDf.columns = x_axis_labels\n",
    "sparDf.index = x_axis_labels"
   ]
  },
  {
   "cell_type": "code",
   "execution_count": 176,
   "metadata": {
    "autoscroll": false,
    "ein.hycell": false,
    "ein.tags": "worksheet-0",
    "slideshow": {
     "slide_type": "-"
    }
   },
   "outputs": [],
   "source": [
    "avg = sparDf.mean().mean()"
   ]
  },
  {
   "cell_type": "code",
   "execution_count": 177,
   "metadata": {
    "autoscroll": false,
    "ein.hycell": false,
    "ein.tags": "worksheet-0",
    "slideshow": {
     "slide_type": "-"
    }
   },
   "outputs": [],
   "source": [
    "spRDf = sparDf.drop(sparDf[sparDf.mean() < avg].index)"
   ]
  },
  {
   "cell_type": "code",
   "execution_count": 178,
   "metadata": {
    "autoscroll": false,
    "ein.hycell": false,
    "ein.tags": "worksheet-0",
    "slideshow": {
     "slide_type": "-"
    }
   },
   "outputs": [],
   "source": [
    "spRDf = spRDf.drop(spRDf.columns[spRDf.mean() < avg], axis=1)\n"
   ]
  },
  {
   "cell_type": "code",
   "execution_count": 179,
   "metadata": {
    "autoscroll": false,
    "ein.hycell": false,
    "ein.tags": "worksheet-0",
    "slideshow": {
     "slide_type": "-"
    }
   },
   "outputs": [
    {
     "data": {
      "text/html": [
       "<div>\n",
       "<style scoped>\n",
       "    .dataframe tbody tr th:only-of-type {\n",
       "        vertical-align: middle;\n",
       "    }\n",
       "\n",
       "    .dataframe tbody tr th {\n",
       "        vertical-align: top;\n",
       "    }\n",
       "\n",
       "    .dataframe thead th {\n",
       "        text-align: right;\n",
       "    }\n",
       "</style>\n",
       "<table border=\"1\" class=\"dataframe\">\n",
       "  <thead>\n",
       "    <tr style=\"text-align: right;\">\n",
       "      <th></th>\n",
       "      <th>а</th>\n",
       "      <th>б</th>\n",
       "      <th>в</th>\n",
       "      <th>д</th>\n",
       "      <th>е</th>\n",
       "      <th>и</th>\n",
       "      <th>к</th>\n",
       "      <th>л</th>\n",
       "      <th>м</th>\n",
       "      <th>н</th>\n",
       "      <th>...</th>\n",
       "      <th>р</th>\n",
       "      <th>с</th>\n",
       "      <th>т</th>\n",
       "      <th>у</th>\n",
       "      <th>ч</th>\n",
       "      <th>ш</th>\n",
       "      <th>ы</th>\n",
       "      <th>ь</th>\n",
       "      <th>ю</th>\n",
       "      <th>я</th>\n",
       "    </tr>\n",
       "  </thead>\n",
       "  <tbody>\n",
       "    <tr>\n",
       "      <th>а</th>\n",
       "      <td>1978.0</td>\n",
       "      <td>18663.0</td>\n",
       "      <td>19686.0</td>\n",
       "      <td>10628.0</td>\n",
       "      <td>21409.0</td>\n",
       "      <td>1712.0</td>\n",
       "      <td>42538.0</td>\n",
       "      <td>20817.0</td>\n",
       "      <td>15098.0</td>\n",
       "      <td>25993.0</td>\n",
       "      <td>...</td>\n",
       "      <td>13201.0</td>\n",
       "      <td>29860.0</td>\n",
       "      <td>35444.0</td>\n",
       "      <td>1762.0</td>\n",
       "      <td>4943.0</td>\n",
       "      <td>6710.0</td>\n",
       "      <td>8.0</td>\n",
       "      <td>15.0</td>\n",
       "      <td>25661.0</td>\n",
       "      <td>8837.0</td>\n",
       "    </tr>\n",
       "    <tr>\n",
       "      <th>е</th>\n",
       "      <td>888.0</td>\n",
       "      <td>20445.0</td>\n",
       "      <td>5624.0</td>\n",
       "      <td>10611.0</td>\n",
       "      <td>4472.0</td>\n",
       "      <td>241.0</td>\n",
       "      <td>11082.0</td>\n",
       "      <td>22792.0</td>\n",
       "      <td>33432.0</td>\n",
       "      <td>56153.0</td>\n",
       "      <td>...</td>\n",
       "      <td>24872.0</td>\n",
       "      <td>34995.0</td>\n",
       "      <td>58675.0</td>\n",
       "      <td>153.0</td>\n",
       "      <td>11270.0</td>\n",
       "      <td>20411.0</td>\n",
       "      <td>4.0</td>\n",
       "      <td>35.0</td>\n",
       "      <td>1833.0</td>\n",
       "      <td>428.0</td>\n",
       "    </tr>\n",
       "    <tr>\n",
       "      <th>и</th>\n",
       "      <td>1882.0</td>\n",
       "      <td>4953.0</td>\n",
       "      <td>33374.0</td>\n",
       "      <td>4041.0</td>\n",
       "      <td>10410.0</td>\n",
       "      <td>3217.0</td>\n",
       "      <td>11714.0</td>\n",
       "      <td>13431.0</td>\n",
       "      <td>21332.0</td>\n",
       "      <td>17510.0</td>\n",
       "      <td>...</td>\n",
       "      <td>7157.0</td>\n",
       "      <td>7686.0</td>\n",
       "      <td>32890.0</td>\n",
       "      <td>231.0</td>\n",
       "      <td>6019.0</td>\n",
       "      <td>10352.0</td>\n",
       "      <td>5.0</td>\n",
       "      <td>23.0</td>\n",
       "      <td>2125.0</td>\n",
       "      <td>9065.0</td>\n",
       "    </tr>\n",
       "    <tr>\n",
       "      <th>к</th>\n",
       "      <td>56772.0</td>\n",
       "      <td>26.0</td>\n",
       "      <td>2072.0</td>\n",
       "      <td>49.0</td>\n",
       "      <td>6590.0</td>\n",
       "      <td>15431.0</td>\n",
       "      <td>232.0</td>\n",
       "      <td>4629.0</td>\n",
       "      <td>260.0</td>\n",
       "      <td>1447.0</td>\n",
       "      <td>...</td>\n",
       "      <td>10136.0</td>\n",
       "      <td>3238.0</td>\n",
       "      <td>3800.0</td>\n",
       "      <td>15397.0</td>\n",
       "      <td>13.0</td>\n",
       "      <td>13.0</td>\n",
       "      <td>3.0</td>\n",
       "      <td>7.0</td>\n",
       "      <td>45.0</td>\n",
       "      <td>13.0</td>\n",
       "    </tr>\n",
       "    <tr>\n",
       "      <th>л</th>\n",
       "      <td>28417.0</td>\n",
       "      <td>133.0</td>\n",
       "      <td>90.0</td>\n",
       "      <td>178.0</td>\n",
       "      <td>23284.0</td>\n",
       "      <td>19374.0</td>\n",
       "      <td>2252.0</td>\n",
       "      <td>1353.0</td>\n",
       "      <td>79.0</td>\n",
       "      <td>969.0</td>\n",
       "      <td>...</td>\n",
       "      <td>19.0</td>\n",
       "      <td>1725.0</td>\n",
       "      <td>989.0</td>\n",
       "      <td>5347.0</td>\n",
       "      <td>113.0</td>\n",
       "      <td>62.0</td>\n",
       "      <td>2994.0</td>\n",
       "      <td>22918.0</td>\n",
       "      <td>55005.0</td>\n",
       "      <td>6417.0</td>\n",
       "    </tr>\n",
       "    <tr>\n",
       "      <th>н</th>\n",
       "      <td>49333.0</td>\n",
       "      <td>119.0</td>\n",
       "      <td>71.0</td>\n",
       "      <td>1708.0</td>\n",
       "      <td>53043.0</td>\n",
       "      <td>39055.0</td>\n",
       "      <td>2175.0</td>\n",
       "      <td>119.0</td>\n",
       "      <td>91.0</td>\n",
       "      <td>6101.0</td>\n",
       "      <td>...</td>\n",
       "      <td>3219.0</td>\n",
       "      <td>2776.0</td>\n",
       "      <td>6410.0</td>\n",
       "      <td>10739.0</td>\n",
       "      <td>1123.0</td>\n",
       "      <td>58.0</td>\n",
       "      <td>14587.0</td>\n",
       "      <td>17595.0</td>\n",
       "      <td>932.0</td>\n",
       "      <td>22871.0</td>\n",
       "    </tr>\n",
       "    <tr>\n",
       "      <th>о</th>\n",
       "      <td>318.0</td>\n",
       "      <td>30206.0</td>\n",
       "      <td>33113.0</td>\n",
       "      <td>27201.0</td>\n",
       "      <td>17521.0</td>\n",
       "      <td>5015.0</td>\n",
       "      <td>13026.0</td>\n",
       "      <td>26908.0</td>\n",
       "      <td>31079.0</td>\n",
       "      <td>13655.0</td>\n",
       "      <td>...</td>\n",
       "      <td>33753.0</td>\n",
       "      <td>20687.0</td>\n",
       "      <td>55529.0</td>\n",
       "      <td>893.0</td>\n",
       "      <td>23500.0</td>\n",
       "      <td>10945.0</td>\n",
       "      <td>10.0</td>\n",
       "      <td>20.0</td>\n",
       "      <td>2149.0</td>\n",
       "      <td>3218.0</td>\n",
       "    </tr>\n",
       "    <tr>\n",
       "      <th>р</th>\n",
       "      <td>58719.0</td>\n",
       "      <td>253.0</td>\n",
       "      <td>823.0</td>\n",
       "      <td>515.0</td>\n",
       "      <td>27816.0</td>\n",
       "      <td>37617.0</td>\n",
       "      <td>1411.0</td>\n",
       "      <td>195.0</td>\n",
       "      <td>2318.0</td>\n",
       "      <td>4450.0</td>\n",
       "      <td>...</td>\n",
       "      <td>196.0</td>\n",
       "      <td>1437.0</td>\n",
       "      <td>5513.0</td>\n",
       "      <td>11956.0</td>\n",
       "      <td>387.0</td>\n",
       "      <td>518.0</td>\n",
       "      <td>6927.0</td>\n",
       "      <td>1697.0</td>\n",
       "      <td>1584.0</td>\n",
       "      <td>2627.0</td>\n",
       "    </tr>\n",
       "    <tr>\n",
       "      <th>с</th>\n",
       "      <td>6991.0</td>\n",
       "      <td>246.0</td>\n",
       "      <td>8958.0</td>\n",
       "      <td>471.0</td>\n",
       "      <td>26056.0</td>\n",
       "      <td>11891.0</td>\n",
       "      <td>15599.0</td>\n",
       "      <td>8750.0</td>\n",
       "      <td>3788.0</td>\n",
       "      <td>9220.0</td>\n",
       "      <td>...</td>\n",
       "      <td>572.0</td>\n",
       "      <td>8639.0</td>\n",
       "      <td>54074.0</td>\n",
       "      <td>2855.0</td>\n",
       "      <td>1198.0</td>\n",
       "      <td>180.0</td>\n",
       "      <td>2661.0</td>\n",
       "      <td>14245.0</td>\n",
       "      <td>438.0</td>\n",
       "      <td>26820.0</td>\n",
       "    </tr>\n",
       "    <tr>\n",
       "      <th>т</th>\n",
       "      <td>46784.0</td>\n",
       "      <td>943.0</td>\n",
       "      <td>11831.0</td>\n",
       "      <td>2024.0</td>\n",
       "      <td>49964.0</td>\n",
       "      <td>17719.0</td>\n",
       "      <td>3820.0</td>\n",
       "      <td>3344.0</td>\n",
       "      <td>284.0</td>\n",
       "      <td>11934.0</td>\n",
       "      <td>...</td>\n",
       "      <td>14243.0</td>\n",
       "      <td>8799.0</td>\n",
       "      <td>326.0</td>\n",
       "      <td>6939.0</td>\n",
       "      <td>254.0</td>\n",
       "      <td>37.0</td>\n",
       "      <td>26849.0</td>\n",
       "      <td>57127.0</td>\n",
       "      <td>223.0</td>\n",
       "      <td>2899.0</td>\n",
       "    </tr>\n",
       "    <tr>\n",
       "      <th>ь</th>\n",
       "      <td>84.0</td>\n",
       "      <td>353.0</td>\n",
       "      <td>77.0</td>\n",
       "      <td>167.0</td>\n",
       "      <td>1782.0</td>\n",
       "      <td>497.0</td>\n",
       "      <td>7857.0</td>\n",
       "      <td>32.0</td>\n",
       "      <td>1924.0</td>\n",
       "      <td>6639.0</td>\n",
       "      <td>...</td>\n",
       "      <td>29.0</td>\n",
       "      <td>16261.0</td>\n",
       "      <td>551.0</td>\n",
       "      <td>40.0</td>\n",
       "      <td>447.0</td>\n",
       "      <td>4610.0</td>\n",
       "      <td>8.0</td>\n",
       "      <td>18.0</td>\n",
       "      <td>1755.0</td>\n",
       "      <td>3664.0</td>\n",
       "    </tr>\n",
       "  </tbody>\n",
       "</table>\n",
       "<p>11 rows × 21 columns</p>\n",
       "</div>"
      ],
      "text/plain": [
       "         а        б        в        д        е        и        к        л  \\\n",
       "а   1978.0  18663.0  19686.0  10628.0  21409.0   1712.0  42538.0  20817.0   \n",
       "е    888.0  20445.0   5624.0  10611.0   4472.0    241.0  11082.0  22792.0   \n",
       "и   1882.0   4953.0  33374.0   4041.0  10410.0   3217.0  11714.0  13431.0   \n",
       "к  56772.0     26.0   2072.0     49.0   6590.0  15431.0    232.0   4629.0   \n",
       "л  28417.0    133.0     90.0    178.0  23284.0  19374.0   2252.0   1353.0   \n",
       "н  49333.0    119.0     71.0   1708.0  53043.0  39055.0   2175.0    119.0   \n",
       "о    318.0  30206.0  33113.0  27201.0  17521.0   5015.0  13026.0  26908.0   \n",
       "р  58719.0    253.0    823.0    515.0  27816.0  37617.0   1411.0    195.0   \n",
       "с   6991.0    246.0   8958.0    471.0  26056.0  11891.0  15599.0   8750.0   \n",
       "т  46784.0    943.0  11831.0   2024.0  49964.0  17719.0   3820.0   3344.0   \n",
       "ь     84.0    353.0     77.0    167.0   1782.0    497.0   7857.0     32.0   \n",
       "\n",
       "         м        н  ...        р        с        т        у        ч  \\\n",
       "а  15098.0  25993.0  ...  13201.0  29860.0  35444.0   1762.0   4943.0   \n",
       "е  33432.0  56153.0  ...  24872.0  34995.0  58675.0    153.0  11270.0   \n",
       "и  21332.0  17510.0  ...   7157.0   7686.0  32890.0    231.0   6019.0   \n",
       "к    260.0   1447.0  ...  10136.0   3238.0   3800.0  15397.0     13.0   \n",
       "л     79.0    969.0  ...     19.0   1725.0    989.0   5347.0    113.0   \n",
       "н     91.0   6101.0  ...   3219.0   2776.0   6410.0  10739.0   1123.0   \n",
       "о  31079.0  13655.0  ...  33753.0  20687.0  55529.0    893.0  23500.0   \n",
       "р   2318.0   4450.0  ...    196.0   1437.0   5513.0  11956.0    387.0   \n",
       "с   3788.0   9220.0  ...    572.0   8639.0  54074.0   2855.0   1198.0   \n",
       "т    284.0  11934.0  ...  14243.0   8799.0    326.0   6939.0    254.0   \n",
       "ь   1924.0   6639.0  ...     29.0  16261.0    551.0     40.0    447.0   \n",
       "\n",
       "         ш        ы        ь        ю        я  \n",
       "а   6710.0      8.0     15.0  25661.0   8837.0  \n",
       "е  20411.0      4.0     35.0   1833.0    428.0  \n",
       "и  10352.0      5.0     23.0   2125.0   9065.0  \n",
       "к     13.0      3.0      7.0     45.0     13.0  \n",
       "л     62.0   2994.0  22918.0  55005.0   6417.0  \n",
       "н     58.0  14587.0  17595.0    932.0  22871.0  \n",
       "о  10945.0     10.0     20.0   2149.0   3218.0  \n",
       "р    518.0   6927.0   1697.0   1584.0   2627.0  \n",
       "с    180.0   2661.0  14245.0    438.0  26820.0  \n",
       "т     37.0  26849.0  57127.0    223.0   2899.0  \n",
       "ь   4610.0      8.0     18.0   1755.0   3664.0  \n",
       "\n",
       "[11 rows x 21 columns]"
      ]
     },
     "execution_count": 179,
     "metadata": {},
     "output_type": "execute_result"
    }
   ],
   "source": [
    "spRDf"
   ]
  },
  {
   "cell_type": "code",
   "execution_count": 180,
   "metadata": {
    "autoscroll": false,
    "ein.hycell": false,
    "ein.tags": "worksheet-0",
    "slideshow": {
     "slide_type": "-"
    }
   },
   "outputs": [
    {
     "data": {
      "image/png": "[encoded data removed]",
      "text/plain": [
       "<Figure size 720x720 with 2 Axes>"
      ]
     },
     "metadata": {},
     "output_type": "display_data"
    }
   ],
   "source": [
    "fig, ax = plt.subplots()\n",
    "ax = sns.heatmap(spRDf, fmt = '')"
   ]
  },
  {
   "cell_type": "code",
   "execution_count": 181,
   "metadata": {
    "autoscroll": false,
    "ein.hycell": false,
    "ein.tags": "worksheet-0",
    "slideshow": {
     "slide_type": "-"
    }
   },
   "outputs": [],
   "source": [
    "def generateSparseSame(depth):\n",
    "    sparseDimension = dict()\n",
    "    everyL = 0\n",
    "    partL = 0\n",
    "    for phrase in phrases:\n",
    "        words = phrase.split(' ')\n",
    "        for word in words:\n",
    "            length = len(word)\n",
    "            if length > depth:\n",
    "                for i,letter in enumerate(word):\n",
    "                    everyL += 1\n",
    "                    if i+depth < length:\n",
    "                        if word[i+depth] in [s for s in groups if letter in s][0]:\n",
    "                            incOrAdd((letter,word[i+depth]), sparseDimension)\n",
    "                            partL += 1\n",
    "                            \n",
    "    return (sparseDimension, everyL, partL)\n",
    "                "
   ]
  },
  {
   "cell_type": "code",
   "execution_count": 182,
   "metadata": {
    "autoscroll": false,
    "ein.hycell": false,
    "ein.tags": "worksheet-0",
    "slideshow": {
     "slide_type": "-"
    }
   },
   "outputs": [],
   "source": [
    "buffer = generateSparseSame(1)\n",
    "sameSparse = buffer[0]\n",
    "summ = buffer[1]\n",
    "part = buffer[2]\n"
   ]
  },
  {
   "cell_type": "code",
   "execution_count": 183,
   "metadata": {
    "autoscroll": false,
    "ein.hycell": false,
    "ein.tags": "worksheet-0",
    "slideshow": {
     "slide_type": "-"
    }
   },
   "outputs": [
    {
     "data": {
      "image/png": "[encoded data removed]",
      "text/plain": [
       "<Figure size 720x720 with 2 Axes>"
      ]
     },
     "metadata": {},
     "output_type": "display_data"
    }
   ],
   "source": [
    "sparseSameArray = np.zeros((delta, delta))\n",
    "for key in sameSparse:\n",
    "    sparseSameArray[ord(key[0])-offset][ord(key[1])-offset] = sameSparse[key]\n",
    "fig, ax = plt.subplots()\n",
    "ax = sns.heatmap(sparseSameArray, fmt = '', xticklabels=x_axis_labels, yticklabels=x_axis_labels)"
   ]
  },
  {
   "cell_type": "code",
   "execution_count": 184,
   "metadata": {
    "autoscroll": false,
    "ein.hycell": false,
    "ein.tags": "worksheet-0",
    "slideshow": {
     "slide_type": "-"
    }
   },
   "outputs": [
    {
     "data": {
      "image/png": "[encoded data removed]",
      "text/plain": [
       "<Figure size 720x720 with 2 Axes>"
      ]
     },
     "metadata": {},
     "output_type": "display_data"
    }
   ],
   "source": [
    "sparSameDf = pd.DataFrame(sparseSameArray)\n",
    "sparSameDf.columns = x_axis_labels\n",
    "sparSameDf.index = x_axis_labels\n",
    "avgSame = sparSameDf.mean().mean()\n",
    "sSamepRDf = sparSameDf.drop(sparSameDf[sparSameDf.mean() < avgSame].index)\n",
    "sSamepRDf = sSamepRDf.drop(sSamepRDf.columns[sSamepRDf.mean() < avgSame], axis=1)\n",
    "fig, ax = plt.subplots()\n",
    "ax = sns.heatmap(sSamepRDf, fmt = '')"
   ]
  },
  {
   "cell_type": "code",
   "execution_count": 185,
   "metadata": {
    "autoscroll": false,
    "ein.hycell": false,
    "ein.tags": "worksheet-0",
    "slideshow": {
     "slide_type": "-"
    }
   },
   "outputs": [
    {
     "data": {
      "text/plain": [
       "\"sSamepRDf[sSamepRDf.index == 'jj'].sum(axis=1).array[0]\""
      ]
     },
     "execution_count": 185,
     "metadata": {},
     "output_type": "execute_result"
    }
   ],
   "source": [
    "'''sSamepRDf[sSamepRDf.index == 'jj'].sum(axis=1).array[0]'''"
   ]
  },
  {
   "cell_type": "code",
   "execution_count": 186,
   "metadata": {
    "autoscroll": false,
    "ein.hycell": false,
    "ein.tags": "worksheet-0",
    "slideshow": {
     "slide_type": "-"
    }
   },
   "outputs": [
    {
     "data": {
      "text/plain": [
       "0.0"
      ]
     },
     "execution_count": 186,
     "metadata": {},
     "output_type": "execute_result"
    }
   ],
   "source": [
    "sSamepRDf[sSamepRDf.index == 'jj'].sum().aggregate('sum')\n"
   ]
  },
  {
   "cell_type": "code",
   "execution_count": 187,
   "metadata": {
    "autoscroll": false,
    "ein.hycell": false,
    "ein.tags": "worksheet-0",
    "slideshow": {
     "slide_type": "-"
    }
   },
   "outputs": [
    {
     "data": {
      "image/png": "[encoded data removed]",
      "text/plain": [
       "<Figure size 720x720 with 2 Axes>"
      ]
     },
     "metadata": {},
     "output_type": "display_data"
    }
   ],
   "source": [
    "depth = []\n",
    "for row in labels: \n",
    "    drow = []\n",
    "    for label in row:\n",
    "        if label != '':\n",
    "            drow.append(sSamepRDf[sSamepRDf.index == label].sum().aggregate('sum'))\n",
    "        else: \n",
    "            drow.append(0)\n",
    "    depth.append(drow)\n",
    "fig, ax = plt.subplots()\n",
    "ax = sns.heatmap(np.array(depth), annot = np.array(labels), fmt = '')"
   ]
  },
  {
   "cell_type": "code",
   "execution_count": 188,
   "metadata": {
    "autoscroll": false,
    "ein.hycell": false,
    "ein.tags": "worksheet-0",
    "slideshow": {
     "slide_type": "-"
    }
   },
   "outputs": [
    {
     "data": {
      "text/plain": [
       "0.18046580988179323"
      ]
     },
     "execution_count": 188,
     "metadata": {},
     "output_type": "execute_result"
    }
   ],
   "source": [
    "part/summ"
   ]
  },
  {
   "cell_type": "code",
   "execution_count": 189,
   "metadata": {
    "autoscroll": false,
    "ein.hycell": false,
    "ein.tags": "worksheet-0",
    "slideshow": {
     "slide_type": "-"
    }
   },
   "outputs": [],
   "source": [
    "'''matcher function takes label and returns depth'''\n",
    "def drawLayout(labels, matcher, collapse): \n",
    "    depth = []\n",
    "    for row in labels: \n",
    "        if collapse == 1:\n",
    "            if row != '':\n",
    "                depth.append(matcher(row))\n",
    "            else: \n",
    "                depth.append(0)\n",
    "        else:\n",
    "            drow = []\n",
    "            for label in row:\n",
    "                if label != '':\n",
    "                    drow.append(matcher(label))\n",
    "                else: \n",
    "                    drow.append(0)\n",
    "            depth.append(drow)\n",
    "    fig, ax = plt.subplots()\n",
    "    if collapse == 1:   \n",
    "        ax = sns.heatmap(np.array([[x] for x in depth]),annot = np.array([[x] for x in labels]),fmt = '')\n",
    "    else:\n",
    "        ax = sns.heatmap(np.array(depth),annot = np.array(labels),fmt = '')"
   ]
  },
  {
   "cell_type": "code",
   "execution_count": 190,
   "metadata": {
    "autoscroll": false,
    "ein.hycell": false,
    "ein.tags": "worksheet-0",
    "slideshow": {
     "slide_type": "-"
    }
   },
   "outputs": [],
   "source": [
    "def translationMatcher(label):\n",
    "    return sSamepRDf[sSamepRDf.index == label].sum().aggregate('sum')\n",
    "\n",
    "def translationMatcherZone(label):\n",
    "    lablist = [x for x in label]\n",
    "    return sSamepRDf[sSamepRDf.index.isin(lablist) ].sum().aggregate('sum')\n",
    "\n",
    "def translationMatcherZoneFull(label):\n",
    "    lablist = [x for x in label]\n",
    "    return spRDf[spRDf.index.isin(lablist) ].sum().aggregate('sum')\n",
    "\n",
    "\n",
    "def translationMatcherFull(label):\n",
    "    lablist = [x for x in label]\n",
    "    return sparDf[sparDf.index.isin(lablist) ].sum().aggregate('sum')"
   ]
  },
  {
   "cell_type": "code",
   "execution_count": 191,
   "metadata": {
    "autoscroll": false,
    "ein.hycell": false,
    "ein.tags": "worksheet-0",
    "slideshow": {
     "slide_type": "-"
    }
   },
   "outputs": [],
   "source": [
    "labelsZone = ['йфя', 'цыч', 'увс', 'камипе', 'нртгоь', 'шлб', 'щдю', 'зжхэъ']"
   ]
  },
  {
   "cell_type": "code",
   "execution_count": 192,
   "metadata": {
    "autoscroll": false,
    "ein.hycell": false,
    "ein.tags": "worksheet-0",
    "slideshow": {
     "slide_type": "-"
    }
   },
   "outputs": [
    {
     "data": {
      "image/png": "[encoded data removed]",
      "text/plain": [
       "<Figure size 720x720 with 2 Axes>"
      ]
     },
     "metadata": {},
     "output_type": "display_data"
    }
   ],
   "source": [
    "drawLayout(labels, translationMatcher, 0)"
   ]
  },
  {
   "cell_type": "code",
   "execution_count": 193,
   "metadata": {
    "autoscroll": false,
    "ein.hycell": false,
    "ein.tags": "worksheet-0",
    "slideshow": {
     "slide_type": "-"
    }
   },
   "outputs": [
    {
     "data": {
      "image/png": "[encoded data removed]",
      "text/plain": [
       "<Figure size 720x720 with 2 Axes>"
      ]
     },
     "metadata": {},
     "output_type": "display_data"
    }
   ],
   "source": [
    "drawLayout(labelsZone, translationMatcherZone, 1)"
   ]
  },
  {
   "cell_type": "code",
   "execution_count": 194,
   "metadata": {
    "autoscroll": false,
    "ein.hycell": false,
    "ein.tags": "worksheet-0",
    "slideshow": {
     "slide_type": "-"
    }
   },
   "outputs": [
    {
     "data": {
      "image/png": "[encoded data removed]",
      "text/plain": [
       "<Figure size 720x720 with 2 Axes>"
      ]
     },
     "metadata": {},
     "output_type": "display_data"
    }
   ],
   "source": [
    "drawLayout(labelsZone, translationMatcherZoneFull, 1)"
   ]
  },
  {
   "cell_type": "code",
   "execution_count": 195,
   "metadata": {
    "autoscroll": false,
    "ein.hycell": false,
    "ein.tags": "worksheet-0",
    "slideshow": {
     "slide_type": "-"
    }
   },
   "outputs": [
    {
     "data": {
      "text/plain": [
       "(3,)"
      ]
     },
     "execution_count": 195,
     "metadata": {},
     "output_type": "execute_result"
    }
   ],
   "source": [
    "np.array([1,2,3]).shape"
   ]
  },
  {
   "cell_type": "code",
   "execution_count": 196,
   "metadata": {
    "autoscroll": false,
    "ein.hycell": false,
    "ein.tags": "worksheet-0",
    "slideshow": {
     "slide_type": "-"
    }
   },
   "outputs": [],
   "source": [
    "def calcUniformity(zones, transDf): #returns summ of positive differences between each zone and average divided by total cases\n",
    "    def prepUniform(): #returns array of cases by each zone\n",
    "        calculatedZones = []\n",
    "        for zone in zones:\n",
    "            lablist = [x for x in zone]\n",
    "            calculatedZones.append(transDf[transDf.index.isin(lablist)].sum().aggregate('sum'))\n",
    "        return calculatedZones\n",
    "    cZones = prepUniform()\n",
    "    avgLoad = sum(cZones) / len (cZones)\n",
    "    positiveDelta = [x - avgLoad for x in cZones if x > avgLoad]\n",
    "    return sum(positiveDelta)/transDf.sum().aggregate('sum')"
   ]
  },
  {
   "cell_type": "code",
   "execution_count": 197,
   "metadata": {
    "autoscroll": false,
    "ein.hycell": false,
    "ein.tags": "worksheet-0",
    "slideshow": {
     "slide_type": "-"
    }
   },
   "outputs": [
    {
     "data": {
      "text/plain": [
       "0.3972855371193979"
      ]
     },
     "execution_count": 197,
     "metadata": {},
     "output_type": "execute_result"
    }
   ],
   "source": [
    "calcUniformity(labelsZone, sparDf)"
   ]
  },
  {
   "cell_type": "code",
   "execution_count": 198,
   "metadata": {
    "autoscroll": false,
    "ein.hycell": false,
    "ein.tags": "worksheet-0",
    "slideshow": {
     "slide_type": "-"
    }
   },
   "outputs": [],
   "source": [
    "partsY =  ['йфяцычувскамипе', 'нртгоьшлбщдюзжхэъ']"
   ]
  },
  {
   "cell_type": "code",
   "execution_count": 199,
   "metadata": {
    "autoscroll": false,
    "ein.hycell": false,
    "ein.tags": "worksheet-0",
    "slideshow": {
     "slide_type": "-"
    }
   },
   "outputs": [],
   "source": [
    "def calcAlteration(parts, transDf): #returns percentage of cases that are not alterated between hands\n",
    "    case = 0\n",
    "    for i, part in enumerate(parts):\n",
    "        lablist = [x for x in part]\n",
    "        labOplist = [x for x in parts[i - len(parts)]]\n",
    "        case += transDf[transDf.index.isin(lablist)][labOplist].sum().aggregate('sum')\n",
    "    return 1- (case/transDf.sum().aggregate('sum'))"
   ]
  },
  {
   "cell_type": "code",
   "execution_count": 200,
   "metadata": {
    "autoscroll": false,
    "ein.hycell": false,
    "ein.tags": "worksheet-0",
    "slideshow": {
     "slide_type": "-"
    }
   },
   "outputs": [],
   "source": [
    "def prepDfToNp(Dframe):\n",
    "    return (Dframe.index.to_numpy().astype(np.unicode_,1), Dframe.to_numpy().astype(np.float), Dframe.columns.to_numpy().astype(np.unicode_,1))"
   ]
  },
  {
   "cell_type": "code",
   "execution_count": 201,
   "metadata": {
    "autoscroll": false,
    "ein.hycell": false,
    "ein.tags": "worksheet-0",
    "slideshow": {
     "slide_type": "-"
    }
   },
   "outputs": [],
   "source": [
    "def IntersectionNp(main, sub):\n",
    "    return  np.array([np.where(main == x) for x in sub]).flatten()"
   ]
  },
  {
   "cell_type": "code",
   "execution_count": 202,
   "metadata": {
    "autoscroll": false,
    "ein.hycell": false,
    "ein.tags": "worksheet-0",
    "slideshow": {
     "slide_type": "-"
    }
   },
   "outputs": [],
   "source": [
    "def NpSummIndexColumn(index, column, prepNp):\n",
    "    ivalues = IntersectionNp(prepNp[0], index)\n",
    "    cvalues = IntersectionNp(prepNp[2], column)\n",
    "    arr = prepNp[1]\n",
    "    agg = 0\n",
    "    for i,ind in enumerate(arr):\n",
    "        if i in ivalues:\n",
    "            for c,col in enumerate(ind):\n",
    "                if c in cvalues:\n",
    "                    agg += col\n",
    "\n",
    "    return agg"
   ]
  },
  {
   "cell_type": "code",
   "execution_count": 203,
   "metadata": {
    "autoscroll": false,
    "ein.hycell": false,
    "ein.tags": "worksheet-0",
    "slideshow": {
     "slide_type": "-"
    }
   },
   "outputs": [
    {
     "name": "stderr",
     "output_type": "stream",
     "text": [
      "/home/hexagramg/.local/lib/python3.6/site-packages/ipykernel_launcher.py:2: DeprecationWarning: Non-string object detected for the array ordering. Please pass in 'C', 'F', 'A', or 'K' instead\n",
      "  \n"
     ]
    },
    {
     "data": {
      "text/plain": [
       "(0.5206742068155112, 0.5206742068155112)"
      ]
     },
     "execution_count": 203,
     "metadata": {},
     "output_type": "execute_result"
    }
   ],
   "source": [
    "prts = convoluteParts(labels)\n",
    "nptst = prepDfToNp(sparDf)\n",
    "calcAlteration(prts, sparDf),NcalcAlteration(prts,nptst)"
   ]
  },
  {
   "cell_type": "code",
   "execution_count": 204,
   "metadata": {
    "autoscroll": false,
    "ein.hycell": false,
    "ein.tags": "worksheet-0",
    "slideshow": {
     "slide_type": "-"
    }
   },
   "outputs": [
    {
     "data": {
      "text/plain": [
       "(0.3972855371193979, 0.3972855371193979)"
      ]
     },
     "execution_count": 204,
     "metadata": {},
     "output_type": "execute_result"
    }
   ],
   "source": [
    "zonets = convoluteZone(labels)\n",
    "calcUniformity(zonets, sparDf),NcalcUniformity(zonets,nptst)"
   ]
  },
  {
   "cell_type": "code",
   "execution_count": 205,
   "metadata": {
    "autoscroll": false,
    "ein.hycell": false,
    "ein.tags": "worksheet-0",
    "slideshow": {
     "slide_type": "-"
    }
   },
   "outputs": [],
   "source": [
    "#@jit\n",
    "def NpSummIndex(index, prepNp):\n",
    "    ivalues = IntersectionNp(prepNp[0], index)\n",
    "    arr = prepNp[1]\n",
    "    agg = 0\n",
    "    for i,ind in enumerate(arr):\n",
    "        if i in ivalues:\n",
    "            for c,col in enumerate(ind):\n",
    "                agg += col\n",
    "\n",
    "    return agg"
   ]
  },
  {
   "cell_type": "code",
   "execution_count": 206,
   "metadata": {
    "autoscroll": false,
    "ein.hycell": false,
    "ein.tags": "worksheet-0",
    "slideshow": {
     "slide_type": "-"
    }
   },
   "outputs": [],
   "source": [
    "#@jit\n",
    "def NcalcUniformity(zones, prepNp): #returns summ of positive differences between each zone and average divided by total cases\n",
    "    def prepUniform(): #returns array of cases by each zone\n",
    "        calculatedZones = []\n",
    "        for zone in zones:\n",
    "            lablist = [x for x in zone]\n",
    "            calculatedZones.append(NpSummIndex(lablist,prepNp))\n",
    "        return calculatedZones\n",
    "    cZones = prepUniform()\n",
    "    avgLoad = sum(cZones) / len (cZones)\n",
    "    positiveDelta = [x - avgLoad for x in cZones if x > avgLoad]\n",
    "    return sum(positiveDelta)/np.sum(prepNp[1])"
   ]
  },
  {
   "cell_type": "code",
   "execution_count": 207,
   "metadata": {
    "autoscroll": false,
    "ein.hycell": false,
    "ein.tags": "worksheet-0",
    "slideshow": {
     "slide_type": "-"
    }
   },
   "outputs": [],
   "source": [
    "#@jit\n",
    "def NcalcAlteration(parts, prepNp): #returns percentage of cases that are not alterated between hands\n",
    "    case = 0\n",
    "    for i, part in enumerate(parts):\n",
    "        lablist = [x for x in part]\n",
    "        labOplist = [x for x in parts[i - len(parts)]]\n",
    "        case += NpSummIndexColumn(lablist,labOplist,prepNp) \n",
    "    return 1- (case/np.sum(prepNp[1]))"
   ]
  },
  {
   "cell_type": "code",
   "execution_count": 208,
   "metadata": {
    "autoscroll": false,
    "ein.hycell": false,
    "ein.tags": "worksheet-0",
    "slideshow": {
     "slide_type": "-"
    }
   },
   "outputs": [
    {
     "data": {
      "text/plain": [
       "0.5206742068155112"
      ]
     },
     "execution_count": 208,
     "metadata": {},
     "output_type": "execute_result"
    }
   ],
   "source": [
    "calcAlteration(partsY, sparDf)"
   ]
  },
  {
   "cell_type": "code",
   "execution_count": 209,
   "metadata": {
    "autoscroll": false,
    "ein.hycell": false,
    "ein.tags": "worksheet-0",
    "slideshow": {
     "slide_type": "-"
    }
   },
   "outputs": [],
   "source": [
    "def calcRepeats(zones, transDf): #returns percentage of cases that lead to repetition of zone\n",
    "    depth = []\n",
    "    for zone in zones:\n",
    "        lablist = [x for x in zone]\n",
    "        depth.append(transDf[transDf.index.isin(lablist)][lablist].sum().aggregate('sum'))\n",
    "    return sum(depth)/transDf.sum().aggregate('sum')"
   ]
  },
  {
   "cell_type": "code",
   "execution_count": 210,
   "metadata": {
    "autoscroll": false,
    "ein.hycell": false,
    "ein.tags": "worksheet-0",
    "slideshow": {
     "slide_type": "-"
    }
   },
   "outputs": [],
   "source": [
    "#@jit\n",
    "def NcalcRepeats(zones, prepNp): #returns percentage of cases that lead to repetition of zone\n",
    "    depth = []\n",
    "    for zone in zones:\n",
    "        lablist = [x for x in zone]\n",
    "        depth.append(NpSummIndexColumn(lablist,lablist,prepNp))\n",
    "    return sum(depth)/np.sum(prepNp[1])"
   ]
  },
  {
   "cell_type": "code",
   "execution_count": 211,
   "metadata": {
    "autoscroll": false,
    "ein.hycell": false,
    "ein.tags": "worksheet-0",
    "slideshow": {
     "slide_type": "-"
    }
   },
   "outputs": [
    {
     "data": {
      "text/plain": [
       "(0.2225897213256184, 0.2225897213256184)"
      ]
     },
     "execution_count": 211,
     "metadata": {},
     "output_type": "execute_result"
    }
   ],
   "source": [
    "calcRepeats(labelsZone, sparDf),NcalcRepeats(zonets,nptst)"
   ]
  },
  {
   "cell_type": "code",
   "execution_count": 251,
   "metadata": {
    "autoscroll": false,
    "ein.hycell": false,
    "ein.tags": "worksheet-0",
    "slideshow": {
     "slide_type": "-"
    }
   },
   "outputs": [],
   "source": [
    "#@jit\n",
    "def NcalcProximity(labels, prepNp):\n",
    "    cases = NpSummIndex(np.append(labels[1][0:4], labels[1][6:-2]), prepNp)\n",
    "    return 1 - (cases/np.sum(prepNp[1]))"
   ]
  },
  {
   "cell_type": "code",
   "execution_count": 213,
   "metadata": {
    "autoscroll": false,
    "ein.hycell": false,
    "ein.tags": "worksheet-0",
    "slideshow": {
     "slide_type": "-"
    }
   },
   "outputs": [],
   "source": [
    "def calcProximity(labels, transDf):\n",
    "    cases = transDf[transDf.index.isin(labels[1][0:4] + labels[1][6:-2])].sum().aggregate('sum')\n",
    "    return 1 - (cases/transDf.sum().aggregate('sum'))"
   ]
  },
  {
   "cell_type": "code",
   "execution_count": 214,
   "metadata": {
    "autoscroll": false,
    "ein.hycell": false,
    "ein.tags": "worksheet-0",
    "slideshow": {
     "slide_type": "-"
    }
   },
   "outputs": [
    {
     "data": {
      "text/plain": [
       "(0.6693012409079415, 0.6693012409079415)"
      ]
     },
     "execution_count": 214,
     "metadata": {},
     "output_type": "execute_result"
    }
   ],
   "source": [
    "calcProximity(labels,sparDf),NcalcProximity(labels,nptst)"
   ]
  },
  {
   "cell_type": "code",
   "execution_count": 215,
   "metadata": {
    "autoscroll": false,
    "ein.hycell": false,
    "ein.tags": "worksheet-0",
    "slideshow": {
     "slide_type": "-"
    }
   },
   "outputs": [],
   "source": [
    "def convoluteZone(labels): #returns array of str(letters) by finger zones\n",
    "    newZone = []\n",
    "    for x,row in enumerate(labels):\n",
    "        i = 0\n",
    "        for y,label in enumerate(row):\n",
    "            if y in [4,6] or y > 9:\n",
    "                newZone[i-1] += label\n",
    "            else: \n",
    "                if x==0:\n",
    "                    newZone.append(label)\n",
    "                else:\n",
    "                    newZone[i] += label\n",
    "                    i += 1\n",
    "    return newZone\n",
    "            "
   ]
  },
  {
   "cell_type": "code",
   "execution_count": 216,
   "metadata": {
    "autoscroll": false,
    "ein.hycell": false,
    "ein.tags": "worksheet-0",
    "slideshow": {
     "slide_type": "-"
    }
   },
   "outputs": [
    {
     "data": {
      "text/plain": [
       "['йфя', 'цыч', 'увс', 'кеапми', 'нгроть', 'шлб', 'щдю', 'зхъжэ']"
      ]
     },
     "execution_count": 216,
     "metadata": {},
     "output_type": "execute_result"
    }
   ],
   "source": [
    "convoluteZone(labels)"
   ]
  },
  {
   "cell_type": "code",
   "execution_count": 217,
   "metadata": {
    "autoscroll": false,
    "ein.hycell": false,
    "ein.tags": "worksheet-0",
    "slideshow": {
     "slide_type": "-"
    }
   },
   "outputs": [],
   "source": [
    "def convoluteParts(labels):\n",
    "    newPart = []\n",
    "    for x,row in enumerate(labels):\n",
    "        i = -1\n",
    "        for y,label in enumerate(row):\n",
    "            if x==0 and (y==0 or y==5):\n",
    "                newPart.append(label)\n",
    "            else:\n",
    "                if y==0 or y==5:\n",
    "                    i+=1\n",
    "                newPart[i] += label\n",
    "    return newPart"
   ]
  },
  {
   "cell_type": "code",
   "execution_count": 218,
   "metadata": {
    "autoscroll": false,
    "ein.hycell": false,
    "ein.tags": "worksheet-0",
    "slideshow": {
     "slide_type": "-"
    }
   },
   "outputs": [
    {
     "data": {
      "text/plain": [
       "['йцукефывапячсми', 'нгшщзхъролджэтьбю']"
      ]
     },
     "execution_count": 218,
     "metadata": {},
     "output_type": "execute_result"
    }
   ],
   "source": [
    "convoluteParts(labels)"
   ]
  },
  {
   "cell_type": "code",
   "execution_count": 219,
   "metadata": {
    "autoscroll": false,
    "ein.hycell": false,
    "ein.tags": "worksheet-0",
    "slideshow": {
     "slide_type": "-"
    }
   },
   "outputs": [],
   "source": [
    "def calcResults(labels, transDf):\n",
    "    zones = convoluteZone(labels)\n",
    "    parts = convoluteParts(labels)\n",
    "    result = []\n",
    "    result.append(calcUniformity(zones,transDf))\n",
    "    result.append(calcAlteration(parts,transDf))\n",
    "    result.append(calcRepeats(zones,transDf))\n",
    "    result.append(calcProximity(labels,transDf))\n",
    "    return result"
   ]
  },
  {
   "cell_type": "code",
   "execution_count": 220,
   "metadata": {
    "autoscroll": false,
    "ein.hycell": false,
    "ein.tags": "worksheet-0",
    "slideshow": {
     "slide_type": "-"
    }
   },
   "outputs": [],
   "source": [
    "#@jit\n",
    "def NcalcResults(labels, prepNp):\n",
    "    zones = convoluteZone(labels)\n",
    "    parts = convoluteParts(labels)\n",
    "    result = []\n",
    "    result.append(NcalcUniformity(zones,prepNp))\n",
    "    result.append(NcalcAlteration(parts,prepNp))\n",
    "    result.append(NcalcRepeats(zones,prepNp))\n",
    "    result.append(NcalcProximity(labels,prepNp))\n",
    "    return result"
   ]
  },
  {
   "cell_type": "code",
   "execution_count": 221,
   "metadata": {
    "autoscroll": false,
    "ein.hycell": false,
    "ein.tags": "worksheet-0",
    "slideshow": {
     "slide_type": "-"
    }
   },
   "outputs": [],
   "source": [
    "def fullIteration(labels_, transDf):\n",
    "    results = []\n",
    "    def exchange(array, x,y,z,c):\n",
    "        newArr = copy.deepcopy(array)\n",
    "        newArr[x][y], newArr[z][c] = newArr[z][c], newArr[x][y]\n",
    "        return newArr\n",
    "\n",
    "    initResult = calcResults(labels_,transDf)\n",
    "    multipliers = [1/x for x in initResult]\n",
    "    sumInitResult = sum(initResult)\n",
    "\n",
    "    for x, row in enumerate(labels_):\n",
    "        for y, label in enumerate(row):\n",
    "            for z, rowSec in enumerate(labels_):\n",
    "                for c, labelSec in enumerate(rowSec):\n",
    "                    if x != z and y != c and x >= z:\n",
    "\n",
    "                        newLabels = exchange(labels_, x,y,z,c)\n",
    "                        newResult = calcResults(newLabels, transDf)\n",
    "                        weightedResult = [x*multipliers[i] for i,x in enumerate(newResult)]\n",
    "                        sumNewResult =  sum(weightedResult)#newResult)\n",
    "                        if sumNewResult < len(initResult): #sumInitResult:\n",
    "                            weightedResult += [sumNewResult,x,y,z,c,label,labelSec]\n",
    "                            results.append(weightedResult)\n",
    "    return results"
   ]
  },
  {
   "cell_type": "code",
   "execution_count": 310,
   "metadata": {
    "autoscroll": false,
    "ein.hycell": false,
    "ein.tags": "worksheet-0",
    "slideshow": {
     "slide_type": "-"
    }
   },
   "outputs": [],
   "source": [
    "def exchange(array, x,y,z,c):\n",
    "    newArr = copy.deepcopy(array)\n",
    "    newArr[x][y], newArr[z][c] = newArr[z][c], newArr[x][y]\n",
    "    return newArr\n",
    "\n",
    "#@jit\n",
    "def NfullIteration(labels_, prepNp, labelsInit):\n",
    "    results = []\n",
    "    initResult = NcalcResults(labelsInit,prepNp)\n",
    "    multipliers = [1/x for x in initResult]\n",
    "    sumInitResult = sum(initResult)\n",
    "    for x, row in enumerate(labels_):\n",
    "        for y, label in enumerate(row):\n",
    "            for z, rowSec in enumerate(labels_):\n",
    "                for c, labelSec in enumerate(rowSec):\n",
    "                    if x != z and y != c and x >= z:\n",
    "\n",
    "                        newLabels = exchange(labels_, x,y,z,c)\n",
    "                        newResult = NcalcResults(newLabels, prepNp)\n",
    "                        weightedResult = [x*multipliers[i] for i,x in enumerate(newResult)]\n",
    "                        sumNewResult =  sum(weightedResult)#newResult)\n",
    "                        if sumNewResult < len(initResult): #sumInitResult:\n",
    "                            weightedResult += [sumNewResult,x,y,z,c,label,labelSec]\n",
    "                            results.append(weightedResult)\n",
    "    return results"
   ]
  },
  {
   "cell_type": "code",
   "execution_count": 223,
   "metadata": {
    "autoscroll": false,
    "ein.hycell": false,
    "ein.tags": "worksheet-0",
    "slideshow": {
     "slide_type": "-"
    }
   },
   "outputs": [],
   "source": [
    "test = fullIteration(labels, sparDf)"
   ]
  },
  {
   "cell_type": "code",
   "execution_count": 224,
   "metadata": {
    "autoscroll": false,
    "ein.hycell": false,
    "ein.tags": "worksheet-0",
    "slideshow": {
     "slide_type": "-"
    }
   },
   "outputs": [
    {
     "data": {
      "text/plain": [
       "[['й', 'ц', 'у', 'к', 'е', 'н', 'г', 'ш', 'щ', 'з', 'х', 'ъ'],\n",
       " ['ф', 'ы', 'в', 'а', 'п', 'р', 'о', 'л', 'д', 'ж', 'э', ''],\n",
       " ['я', 'ч', 'с', 'м', 'и', 'т', 'ь', 'б', 'ю', '', '', '']]"
      ]
     },
     "execution_count": 224,
     "metadata": {},
     "output_type": "execute_result"
    }
   ],
   "source": [
    "labels"
   ]
  },
  {
   "cell_type": "code",
   "execution_count": 225,
   "metadata": {
    "autoscroll": false,
    "ein.hycell": false,
    "ein.tags": "worksheet-0",
    "slideshow": {
     "slide_type": "-"
    }
   },
   "outputs": [],
   "source": [
    "def dfResults(result):\n",
    "    columns = ['Uniformity', 'Alteration', 'Repeats','Proximity', 'Summ', 'x', 'y', 'z', 'c', 'from', 'to']\n",
    "    return pd.DataFrame(np.array(result), columns=columns)\n",
    "    "
   ]
  },
  {
   "cell_type": "code",
   "execution_count": 226,
   "metadata": {
    "autoscroll": false,
    "ein.hycell": false,
    "ein.tags": "worksheet-0",
    "slideshow": {
     "slide_type": "-"
    }
   },
   "outputs": [
    {
     "data": {
      "text/plain": [
       "[0.3972855371193979,\n",
       " 0.5206742068155112,\n",
       " 0.2225897213256184,\n",
       " 0.6693012409079415]"
      ]
     },
     "execution_count": 226,
     "metadata": {},
     "output_type": "execute_result"
    }
   ],
   "source": [
    "calcResults(labels,sparDf)"
   ]
  },
  {
   "cell_type": "code",
   "execution_count": 227,
   "metadata": {
    "autoscroll": false,
    "ein.hycell": false,
    "ein.tags": "worksheet-0",
    "slideshow": {
     "slide_type": "-"
    }
   },
   "outputs": [],
   "source": [
    "dfFst = dfResults(test)"
   ]
  },
  {
   "cell_type": "code",
   "execution_count": 228,
   "metadata": {
    "autoscroll": false,
    "ein.hycell": false,
    "ein.tags": "worksheet-0",
    "slideshow": {
     "slide_type": "-"
    }
   },
   "outputs": [
    {
     "data": {
      "text/html": [
       "<div>\n",
       "<style scoped>\n",
       "    .dataframe tbody tr th:only-of-type {\n",
       "        vertical-align: middle;\n",
       "    }\n",
       "\n",
       "    .dataframe tbody tr th {\n",
       "        vertical-align: top;\n",
       "    }\n",
       "\n",
       "    .dataframe thead th {\n",
       "        text-align: right;\n",
       "    }\n",
       "</style>\n",
       "<table border=\"1\" class=\"dataframe\">\n",
       "  <thead>\n",
       "    <tr style=\"text-align: right;\">\n",
       "      <th></th>\n",
       "      <th>Uniformity</th>\n",
       "      <th>Alteration</th>\n",
       "      <th>Repeats</th>\n",
       "      <th>Proximity</th>\n",
       "      <th>Summ</th>\n",
       "      <th>x</th>\n",
       "      <th>y</th>\n",
       "      <th>z</th>\n",
       "      <th>c</th>\n",
       "      <th>from</th>\n",
       "      <th>to</th>\n",
       "    </tr>\n",
       "  </thead>\n",
       "  <tbody>\n",
       "    <tr>\n",
       "      <th>165</th>\n",
       "      <td>0.8061095728692751</td>\n",
       "      <td>0.9310310041325154</td>\n",
       "      <td>0.7859431758737093</td>\n",
       "      <td>0.8849100258944022</td>\n",
       "      <td>3.407993778769902</td>\n",
       "      <td>2</td>\n",
       "      <td>5</td>\n",
       "      <td>1</td>\n",
       "      <td>0</td>\n",
       "      <td>т</td>\n",
       "      <td>ф</td>\n",
       "    </tr>\n",
       "    <tr>\n",
       "      <th>166</th>\n",
       "      <td>0.8276904590720745</td>\n",
       "      <td>0.9351104012798387</td>\n",
       "      <td>0.8057619760119533</td>\n",
       "      <td>0.8977200633522157</td>\n",
       "      <td>3.466282899716082</td>\n",
       "      <td>2</td>\n",
       "      <td>5</td>\n",
       "      <td>1</td>\n",
       "      <td>1</td>\n",
       "      <td>т</td>\n",
       "      <td>ы</td>\n",
       "    </tr>\n",
       "    <tr>\n",
       "      <th>64</th>\n",
       "      <td>0.8236697100649767</td>\n",
       "      <td>0.9139197654580985</td>\n",
       "      <td>0.9077378000202563</td>\n",
       "      <td>0.8953334169047352</td>\n",
       "      <td>3.5406606924480664</td>\n",
       "      <td>1</td>\n",
       "      <td>9</td>\n",
       "      <td>0</td>\n",
       "      <td>4</td>\n",
       "      <td>ж</td>\n",
       "      <td>е</td>\n",
       "    </tr>\n",
       "    <tr>\n",
       "      <th>155</th>\n",
       "      <td>0.807755195880619</td>\n",
       "      <td>0.9394174483390928</td>\n",
       "      <td>0.7965631124527136</td>\n",
       "      <td>1.0</td>\n",
       "      <td>3.5437357566724255</td>\n",
       "      <td>2</td>\n",
       "      <td>5</td>\n",
       "      <td>0</td>\n",
       "      <td>0</td>\n",
       "      <td>т</td>\n",
       "      <td>й</td>\n",
       "    </tr>\n",
       "    <tr>\n",
       "      <th>4</th>\n",
       "      <td>0.8282871656030275</td>\n",
       "      <td>0.9233199213313322</td>\n",
       "      <td>0.894231863568637</td>\n",
       "      <td>0.8980742579363027</td>\n",
       "      <td>3.5439132084392995</td>\n",
       "      <td>1</td>\n",
       "      <td>0</td>\n",
       "      <td>0</td>\n",
       "      <td>5</td>\n",
       "      <td>ф</td>\n",
       "      <td>н</td>\n",
       "    </tr>\n",
       "    <tr>\n",
       "      <th>...</th>\n",
       "      <td>...</td>\n",
       "      <td>...</td>\n",
       "      <td>...</td>\n",
       "      <td>...</td>\n",
       "      <td>...</td>\n",
       "      <td>...</td>\n",
       "      <td>...</td>\n",
       "      <td>...</td>\n",
       "      <td>...</td>\n",
       "      <td>...</td>\n",
       "      <td>...</td>\n",
       "    </tr>\n",
       "    <tr>\n",
       "      <th>121</th>\n",
       "      <td>1.0</td>\n",
       "      <td>1.031605396106383</td>\n",
       "      <td>0.9678854203755349</td>\n",
       "      <td>1.0</td>\n",
       "      <td>3.9994908164819183</td>\n",
       "      <td>2</td>\n",
       "      <td>2</td>\n",
       "      <td>1</td>\n",
       "      <td>10</td>\n",
       "      <td>с</td>\n",
       "      <td>э</td>\n",
       "    </tr>\n",
       "    <tr>\n",
       "      <th>242</th>\n",
       "      <td>1.0</td>\n",
       "      <td>1.0</td>\n",
       "      <td>0.9996470810575457</td>\n",
       "      <td>1.0</td>\n",
       "      <td>3.999647081057546</td>\n",
       "      <td>2</td>\n",
       "      <td>11</td>\n",
       "      <td>0</td>\n",
       "      <td>8</td>\n",
       "      <td></td>\n",
       "      <td>щ</td>\n",
       "    </tr>\n",
       "    <tr>\n",
       "      <th>220</th>\n",
       "      <td>1.0</td>\n",
       "      <td>1.0</td>\n",
       "      <td>0.9996470810575457</td>\n",
       "      <td>1.0</td>\n",
       "      <td>3.999647081057546</td>\n",
       "      <td>2</td>\n",
       "      <td>9</td>\n",
       "      <td>0</td>\n",
       "      <td>8</td>\n",
       "      <td></td>\n",
       "      <td>щ</td>\n",
       "    </tr>\n",
       "    <tr>\n",
       "      <th>231</th>\n",
       "      <td>1.0</td>\n",
       "      <td>1.0</td>\n",
       "      <td>0.9996470810575457</td>\n",
       "      <td>1.0</td>\n",
       "      <td>3.999647081057546</td>\n",
       "      <td>2</td>\n",
       "      <td>10</td>\n",
       "      <td>0</td>\n",
       "      <td>8</td>\n",
       "      <td></td>\n",
       "      <td>щ</td>\n",
       "    </tr>\n",
       "    <tr>\n",
       "      <th>81</th>\n",
       "      <td>1.0</td>\n",
       "      <td>1.0</td>\n",
       "      <td>0.9996470810575457</td>\n",
       "      <td>1.0</td>\n",
       "      <td>3.999647081057546</td>\n",
       "      <td>1</td>\n",
       "      <td>11</td>\n",
       "      <td>0</td>\n",
       "      <td>8</td>\n",
       "      <td></td>\n",
       "      <td>щ</td>\n",
       "    </tr>\n",
       "  </tbody>\n",
       "</table>\n",
       "<p>247 rows × 11 columns</p>\n",
       "</div>"
      ],
      "text/plain": [
       "             Uniformity          Alteration             Repeats  \\\n",
       "165  0.8061095728692751  0.9310310041325154  0.7859431758737093   \n",
       "166  0.8276904590720745  0.9351104012798387  0.8057619760119533   \n",
       "64   0.8236697100649767  0.9139197654580985  0.9077378000202563   \n",
       "155   0.807755195880619  0.9394174483390928  0.7965631124527136   \n",
       "4    0.8282871656030275  0.9233199213313322   0.894231863568637   \n",
       "..                  ...                 ...                 ...   \n",
       "121                 1.0   1.031605396106383  0.9678854203755349   \n",
       "242                 1.0                 1.0  0.9996470810575457   \n",
       "220                 1.0                 1.0  0.9996470810575457   \n",
       "231                 1.0                 1.0  0.9996470810575457   \n",
       "81                  1.0                 1.0  0.9996470810575457   \n",
       "\n",
       "              Proximity                Summ  x   y  z   c from to  \n",
       "165  0.8849100258944022   3.407993778769902  2   5  1   0    т  ф  \n",
       "166  0.8977200633522157   3.466282899716082  2   5  1   1    т  ы  \n",
       "64   0.8953334169047352  3.5406606924480664  1   9  0   4    ж  е  \n",
       "155                 1.0  3.5437357566724255  2   5  0   0    т  й  \n",
       "4    0.8980742579363027  3.5439132084392995  1   0  0   5    ф  н  \n",
       "..                  ...                 ... ..  .. ..  ..  ... ..  \n",
       "121                 1.0  3.9994908164819183  2   2  1  10    с  э  \n",
       "242                 1.0   3.999647081057546  2  11  0   8       щ  \n",
       "220                 1.0   3.999647081057546  2   9  0   8       щ  \n",
       "231                 1.0   3.999647081057546  2  10  0   8       щ  \n",
       "81                  1.0   3.999647081057546  1  11  0   8       щ  \n",
       "\n",
       "[247 rows x 11 columns]"
      ]
     },
     "execution_count": 228,
     "metadata": {},
     "output_type": "execute_result"
    }
   ],
   "source": [
    "dfFst.sort_values(by=['Summ'])"
   ]
  },
  {
   "cell_type": "code",
   "execution_count": 229,
   "metadata": {
    "autoscroll": false,
    "ein.hycell": false,
    "ein.tags": "worksheet-0",
    "slideshow": {
     "slide_type": "-"
    }
   },
   "outputs": [
    {
     "data": {
      "text/html": [
       "<div>\n",
       "<style scoped>\n",
       "    .dataframe tbody tr th:only-of-type {\n",
       "        vertical-align: middle;\n",
       "    }\n",
       "\n",
       "    .dataframe tbody tr th {\n",
       "        vertical-align: top;\n",
       "    }\n",
       "\n",
       "    .dataframe thead th {\n",
       "        text-align: right;\n",
       "    }\n",
       "</style>\n",
       "<table border=\"1\" class=\"dataframe\">\n",
       "  <thead>\n",
       "    <tr style=\"text-align: right;\">\n",
       "      <th></th>\n",
       "      <th>Uniformity</th>\n",
       "      <th>Alteration</th>\n",
       "      <th>Repeats</th>\n",
       "      <th>Proximity</th>\n",
       "      <th>Summ</th>\n",
       "      <th>x</th>\n",
       "      <th>y</th>\n",
       "      <th>z</th>\n",
       "      <th>c</th>\n",
       "      <th>from</th>\n",
       "      <th>to</th>\n",
       "    </tr>\n",
       "  </thead>\n",
       "  <tbody>\n",
       "    <tr>\n",
       "      <th>165</th>\n",
       "      <td>0.8061095728692751</td>\n",
       "      <td>0.9310310041325154</td>\n",
       "      <td>0.7859431758737093</td>\n",
       "      <td>0.8849100258944022</td>\n",
       "      <td>3.407993778769902</td>\n",
       "      <td>2</td>\n",
       "      <td>5</td>\n",
       "      <td>1</td>\n",
       "      <td>0</td>\n",
       "      <td>т</td>\n",
       "      <td>ф</td>\n",
       "    </tr>\n",
       "    <tr>\n",
       "      <th>166</th>\n",
       "      <td>0.8276904590720745</td>\n",
       "      <td>0.9351104012798387</td>\n",
       "      <td>0.8057619760119533</td>\n",
       "      <td>0.8977200633522157</td>\n",
       "      <td>3.466282899716082</td>\n",
       "      <td>2</td>\n",
       "      <td>5</td>\n",
       "      <td>1</td>\n",
       "      <td>1</td>\n",
       "      <td>т</td>\n",
       "      <td>ы</td>\n",
       "    </tr>\n",
       "    <tr>\n",
       "      <th>64</th>\n",
       "      <td>0.8236697100649767</td>\n",
       "      <td>0.9139197654580985</td>\n",
       "      <td>0.9077378000202563</td>\n",
       "      <td>0.8953334169047352</td>\n",
       "      <td>3.5406606924480664</td>\n",
       "      <td>1</td>\n",
       "      <td>9</td>\n",
       "      <td>0</td>\n",
       "      <td>4</td>\n",
       "      <td>ж</td>\n",
       "      <td>е</td>\n",
       "    </tr>\n",
       "    <tr>\n",
       "      <th>155</th>\n",
       "      <td>0.807755195880619</td>\n",
       "      <td>0.9394174483390928</td>\n",
       "      <td>0.7965631124527136</td>\n",
       "      <td>1.0</td>\n",
       "      <td>3.5437357566724255</td>\n",
       "      <td>2</td>\n",
       "      <td>5</td>\n",
       "      <td>0</td>\n",
       "      <td>0</td>\n",
       "      <td>т</td>\n",
       "      <td>й</td>\n",
       "    </tr>\n",
       "    <tr>\n",
       "      <th>4</th>\n",
       "      <td>0.8282871656030275</td>\n",
       "      <td>0.9233199213313322</td>\n",
       "      <td>0.894231863568637</td>\n",
       "      <td>0.8980742579363027</td>\n",
       "      <td>3.5439132084392995</td>\n",
       "      <td>1</td>\n",
       "      <td>0</td>\n",
       "      <td>0</td>\n",
       "      <td>5</td>\n",
       "      <td>ф</td>\n",
       "      <td>н</td>\n",
       "    </tr>\n",
       "    <tr>\n",
       "      <th>171</th>\n",
       "      <td>0.8379327511739616</td>\n",
       "      <td>1.0</td>\n",
       "      <td>0.8095031256297464</td>\n",
       "      <td>0.9037997092131916</td>\n",
       "      <td>3.5512355860168996</td>\n",
       "      <td>2</td>\n",
       "      <td>5</td>\n",
       "      <td>1</td>\n",
       "      <td>9</td>\n",
       "      <td>т</td>\n",
       "      <td>ж</td>\n",
       "    </tr>\n",
       "    <tr>\n",
       "      <th>3</th>\n",
       "      <td>0.7918465317602901</td>\n",
       "      <td>1.0</td>\n",
       "      <td>0.8836495159894208</td>\n",
       "      <td>0.8764437335859458</td>\n",
       "      <td>3.5519397813356566</td>\n",
       "      <td>1</td>\n",
       "      <td>0</td>\n",
       "      <td>0</td>\n",
       "      <td>4</td>\n",
       "      <td>ф</td>\n",
       "      <td>е</td>\n",
       "    </tr>\n",
       "    <tr>\n",
       "      <th>156</th>\n",
       "      <td>0.8065699729083535</td>\n",
       "      <td>0.9352068177131271</td>\n",
       "      <td>0.813967863493459</td>\n",
       "      <td>1.0</td>\n",
       "      <td>3.5557446541149393</td>\n",
       "      <td>2</td>\n",
       "      <td>5</td>\n",
       "      <td>0</td>\n",
       "      <td>1</td>\n",
       "      <td>т</td>\n",
       "      <td>ц</td>\n",
       "    </tr>\n",
       "    <tr>\n",
       "      <th>172</th>\n",
       "      <td>0.8104081999177482</td>\n",
       "      <td>1.0</td>\n",
       "      <td>0.7672405602013935</td>\n",
       "      <td>1.0</td>\n",
       "      <td>3.577648760119142</td>\n",
       "      <td>2</td>\n",
       "      <td>5</td>\n",
       "      <td>1</td>\n",
       "      <td>10</td>\n",
       "      <td>т</td>\n",
       "      <td>э</td>\n",
       "    </tr>\n",
       "    <tr>\n",
       "      <th>161</th>\n",
       "      <td>0.8070871185685128</td>\n",
       "      <td>1.0</td>\n",
       "      <td>0.7720571728686777</td>\n",
       "      <td>1.0</td>\n",
       "      <td>3.5791442914371907</td>\n",
       "      <td>2</td>\n",
       "      <td>5</td>\n",
       "      <td>0</td>\n",
       "      <td>8</td>\n",
       "      <td>т</td>\n",
       "      <td>щ</td>\n",
       "    </tr>\n",
       "    <tr>\n",
       "      <th>173</th>\n",
       "      <td>0.800411610505077</td>\n",
       "      <td>1.0</td>\n",
       "      <td>0.7818125624525569</td>\n",
       "      <td>1.0</td>\n",
       "      <td>3.582224172957634</td>\n",
       "      <td>2</td>\n",
       "      <td>5</td>\n",
       "      <td>1</td>\n",
       "      <td>11</td>\n",
       "      <td>т</td>\n",
       "      <td></td>\n",
       "    </tr>\n",
       "    <tr>\n",
       "      <th>164</th>\n",
       "      <td>0.8007602743212024</td>\n",
       "      <td>1.0</td>\n",
       "      <td>0.781773929313886</td>\n",
       "      <td>1.0</td>\n",
       "      <td>3.5825342036350887</td>\n",
       "      <td>2</td>\n",
       "      <td>5</td>\n",
       "      <td>0</td>\n",
       "      <td>11</td>\n",
       "      <td>т</td>\n",
       "      <td>ъ</td>\n",
       "    </tr>\n",
       "    <tr>\n",
       "      <th>13</th>\n",
       "      <td>0.849868051805827</td>\n",
       "      <td>0.9165033687723242</td>\n",
       "      <td>0.9096005437875302</td>\n",
       "      <td>0.9108842953941161</td>\n",
       "      <td>3.5868562597597977</td>\n",
       "      <td>1</td>\n",
       "      <td>1</td>\n",
       "      <td>0</td>\n",
       "      <td>5</td>\n",
       "      <td>ы</td>\n",
       "      <td>н</td>\n",
       "    </tr>\n",
       "    <tr>\n",
       "      <th>238</th>\n",
       "      <td>0.7956853437760876</td>\n",
       "      <td>0.9087257764870672</td>\n",
       "      <td>0.904581368176944</td>\n",
       "      <td>1.0</td>\n",
       "      <td>3.608992488440099</td>\n",
       "      <td>2</td>\n",
       "      <td>11</td>\n",
       "      <td>0</td>\n",
       "      <td>4</td>\n",
       "      <td></td>\n",
       "      <td>е</td>\n",
       "    </tr>\n",
       "    <tr>\n",
       "      <th>227</th>\n",
       "      <td>0.7956853437760876</td>\n",
       "      <td>0.9087257764870672</td>\n",
       "      <td>0.904581368176944</td>\n",
       "      <td>1.0</td>\n",
       "      <td>3.608992488440099</td>\n",
       "      <td>2</td>\n",
       "      <td>10</td>\n",
       "      <td>0</td>\n",
       "      <td>4</td>\n",
       "      <td></td>\n",
       "      <td>е</td>\n",
       "    </tr>\n",
       "  </tbody>\n",
       "</table>\n",
       "</div>"
      ],
      "text/plain": [
       "             Uniformity          Alteration             Repeats  \\\n",
       "165  0.8061095728692751  0.9310310041325154  0.7859431758737093   \n",
       "166  0.8276904590720745  0.9351104012798387  0.8057619760119533   \n",
       "64   0.8236697100649767  0.9139197654580985  0.9077378000202563   \n",
       "155   0.807755195880619  0.9394174483390928  0.7965631124527136   \n",
       "4    0.8282871656030275  0.9233199213313322   0.894231863568637   \n",
       "171  0.8379327511739616                 1.0  0.8095031256297464   \n",
       "3    0.7918465317602901                 1.0  0.8836495159894208   \n",
       "156  0.8065699729083535  0.9352068177131271   0.813967863493459   \n",
       "172  0.8104081999177482                 1.0  0.7672405602013935   \n",
       "161  0.8070871185685128                 1.0  0.7720571728686777   \n",
       "173   0.800411610505077                 1.0  0.7818125624525569   \n",
       "164  0.8007602743212024                 1.0   0.781773929313886   \n",
       "13    0.849868051805827  0.9165033687723242  0.9096005437875302   \n",
       "238  0.7956853437760876  0.9087257764870672   0.904581368176944   \n",
       "227  0.7956853437760876  0.9087257764870672   0.904581368176944   \n",
       "\n",
       "              Proximity                Summ  x   y  z   c from to  \n",
       "165  0.8849100258944022   3.407993778769902  2   5  1   0    т  ф  \n",
       "166  0.8977200633522157   3.466282899716082  2   5  1   1    т  ы  \n",
       "64   0.8953334169047352  3.5406606924480664  1   9  0   4    ж  е  \n",
       "155                 1.0  3.5437357566724255  2   5  0   0    т  й  \n",
       "4    0.8980742579363027  3.5439132084392995  1   0  0   5    ф  н  \n",
       "171  0.9037997092131916  3.5512355860168996  2   5  1   9    т  ж  \n",
       "3    0.8764437335859458  3.5519397813356566  1   0  0   4    ф  е  \n",
       "156                 1.0  3.5557446541149393  2   5  0   1    т  ц  \n",
       "172                 1.0   3.577648760119142  2   5  1  10    т  э  \n",
       "161                 1.0  3.5791442914371907  2   5  0   8    т  щ  \n",
       "173                 1.0   3.582224172957634  2   5  1  11    т     \n",
       "164                 1.0  3.5825342036350887  2   5  0  11    т  ъ  \n",
       "13   0.9108842953941161  3.5868562597597977  1   1  0   5    ы  н  \n",
       "238                 1.0   3.608992488440099  2  11  0   4       е  \n",
       "227                 1.0   3.608992488440099  2  10  0   4       е  "
      ]
     },
     "execution_count": 229,
     "metadata": {},
     "output_type": "execute_result"
    }
   ],
   "source": [
    "dfFst.sort_values(by=['Summ']).head(15)"
   ]
  },
  {
   "cell_type": "code",
   "execution_count": 230,
   "metadata": {
    "autoscroll": false,
    "ein.hycell": false,
    "ein.tags": "worksheet-0",
    "slideshow": {
     "slide_type": "-"
    }
   },
   "outputs": [],
   "source": [
    "dyctL = [['ц','ь','я','','','з','в','к','д','ч','ш','щ'],\n",
    "         ['у','и','е','о','а','л','н','т','с','р','й',''],\n",
    "         ['ф','э','х','ы','ю','б','м','п','г','ж','','']]"
   ]
  },
  {
   "cell_type": "code",
   "execution_count": 231,
   "metadata": {
    "autoscroll": false,
    "ein.hycell": false,
    "ein.tags": "worksheet-0",
    "slideshow": {
     "slide_type": "-"
    }
   },
   "outputs": [
    {
     "data": {
      "text/plain": [
       "[0.21679225576016303,\n",
       " 0.8141396848830118,\n",
       " 0.04077063097770307,\n",
       " 0.48337282831813655]"
      ]
     },
     "execution_count": 231,
     "metadata": {},
     "output_type": "execute_result"
    }
   ],
   "source": [
    "calcResults(dyctL,sparDf)"
   ]
  },
  {
   "cell_type": "code",
   "execution_count": 232,
   "metadata": {
    "autoscroll": false,
    "ein.hycell": false,
    "ein.tags": "worksheet-0",
    "slideshow": {
     "slide_type": "-"
    }
   },
   "outputs": [],
   "source": [
    "def comPute(label,transDf):\n",
    "\n",
    "    def modifyLabel(x,y,z,c,labels):\n",
    "        newLabels = copy.deepcopy(labels)\n",
    "        newLabels[x][y], newLabels[z][c] = newLabels[z][c], newLabels[x][y]\n",
    "        return newLabels\n",
    "\n",
    "    def getCoordinates():\n",
    "        return sortedDf[['x','y','z','c']].to_numpy().tolist()\n",
    "    def transformCoord():\n",
    "        newLb = []\n",
    "        for cc in cordList:\n",
    "            newLb.append(modifyLabel(int(cc[0]), int(cc[1]), int(cc[2]), int(cc[3]), label))\n",
    "        return newLb\n",
    "\n",
    "    result = fullIteration(label,transDf)\n",
    "    \n",
    "    sortedDf = dfResults(result).sort_values(by=['Summ']).head(3)\n",
    "    cordList = getCoordinates()\n",
    "    buffLabels = transformCoord()\n",
    "    return buffLabels\n",
    "    \n"
   ]
  },
  {
   "cell_type": "code",
   "execution_count": 311,
   "metadata": {
    "autoscroll": false,
    "ein.hycell": false,
    "ein.tags": "worksheet-0",
    "slideshow": {
     "slide_type": "-"
    }
   },
   "outputs": [],
   "source": [
    "def buffSorted(x):\n",
    "    return x[1]\n",
    "\n",
    "#@jit\n",
    "def NcomPute(label, prepNp, labels_):\n",
    "\n",
    "    def modifyLabel(cc,labels):\n",
    "        x,y,z,c,summ = cc[0], cc[1], cc[2],cc[3], cc[4]\n",
    "        newLabels = copy.deepcopy(labels)\n",
    "        newLabels[x][y], newLabels[z][c] = newLabels[z][c], newLabels[x][y]\n",
    "        return (newLabels, summ)\n",
    "\n",
    "    cols = [('Uniformity',float), ('Alteration',float), ('Repeats',float),('Proximity',float), ('Summ',float), ('x',int), ('y',int), ('z',int), ('c',np.int), ('from',np.unicode_,1), ('to',np.unicode_,1)]\n",
    "    result = NfullIteration(label,prepNp, labels_)\n",
    "    tupylize = []\n",
    "    for res in result:\n",
    "        tupylize.append(tuple(res))\n",
    "    sortedNp = np.array(tupylize, dtype=cols)\n",
    "    sortedNp.sort(order='Summ')\n",
    "    def getCoordinates():\n",
    "        return sortedNp[:5][['x','y','z','c', 'Summ']]\n",
    "    cordList = getCoordinates()\n",
    "\n",
    "    def transformCoord():\n",
    "        newLb = []\n",
    "        for cc in cordList:\n",
    "            newLb.append(modifyLabel(cc, label))\n",
    "        return newLb\n",
    "\n",
    "    buffLabels = transformCoord()\n",
    "    return buffLabels\n",
    "    \n"
   ]
  },
  {
   "cell_type": "code",
   "execution_count": 234,
   "metadata": {
    "autoscroll": false,
    "ein.hycell": false,
    "ein.tags": "worksheet-0",
    "slideshow": {
     "slide_type": "-"
    }
   },
   "outputs": [],
   "source": [
    "def iterateAlgo(labels, transDf, quanity):\n",
    "    innerLabels = np.array([(innerLabesl,4)])\n",
    "    historyLabels = np.empty_like(innerLabels)\n",
    "    for i in range(quanity):\n",
    "        buffLabels = np.empty_like(innerLabels)\n",
    "        for label in range(len(innerLabels)):\n",
    "            label = innerLabels[k][0]\n",
    "            np.concatenate(buffLabels, comPute(label, transDf))\n",
    "        np.concatenate(historyLabels, innerLabels)\n",
    "        innerLabels = buffLabels\n",
    "    historyLabels += innerLabels\n",
    "    return historyLabels \n"
   ]
  },
  {
   "cell_type": "code",
   "execution_count": 323,
   "metadata": {
    "autoscroll": false,
    "ein.hycell": false,
    "ein.tags": "worksheet-0",
    "slideshow": {
     "slide_type": "-"
    }
   },
   "outputs": [],
   "source": [
    "##@jit(forceobj=True,parallel=True)\n",
    "def NiterateAlgo(labels_, prepNp, quanity):\n",
    "    innerLabels = [(labels_,4)]\n",
    "    historyLabels = []\n",
    "    for i in range(0,quanity):\n",
    "        buffLabels = []\n",
    "        for k in range(0,len(innerLabels)):\n",
    "            label = innerLabels[k][0]\n",
    "            computed = NcomPute(label, prepNp, labels_)\n",
    "            buffLabels = buffLabels + computed\n",
    "        historyLabels = historyLabels+innerLabels\n",
    "        sortLb= sorted(buffLabels, key=buffSorted)\n",
    "        innerLabels = sortLb[:10]\n",
    "    historyLabels += innerLabels\n",
    "    return historyLabels \n"
   ]
  },
  {
   "cell_type": "code",
   "execution_count": 324,
   "metadata": {
    "autoscroll": false,
    "ein.hycell": false,
    "ein.tags": "worksheet-0",
    "slideshow": {
     "slide_type": "-"
    }
   },
   "outputs": [
    {
     "name": "stderr",
     "output_type": "stream",
     "text": [
      "/home/hexagramg/.local/lib/python3.6/site-packages/ipykernel_launcher.py:2: DeprecationWarning: Non-string object detected for the array ordering. Please pass in 'C', 'F', 'A', or 'K' instead\n",
      "  \n",
      "/home/hexagramg/.local/lib/python3.6/site-packages/ipykernel_launcher.py:7: DeprecationWarning: The truth value of an empty array is ambiguous. Returning False, but in future this will result in an error. Use `array.size > 0` to check that an array is not empty.\n",
      "  import sys\n"
     ]
    }
   ],
   "source": [
    "sample = NiterateAlgo(labels, prepDfToNp(sparDf), 4)"
   ]
  },
  {
   "cell_type": "code",
   "execution_count": 325,
   "metadata": {
    "autoscroll": false,
    "ein.hycell": false,
    "ein.tags": "worksheet-0",
    "slideshow": {
     "slide_type": "-"
    }
   },
   "outputs": [
    {
     "data": {
      "text/plain": [
       "36"
      ]
     },
     "execution_count": 325,
     "metadata": {},
     "output_type": "execute_result"
    }
   ],
   "source": [
    "len(sample)\n"
   ]
  },
  {
   "cell_type": "code",
   "execution_count": 237,
   "metadata": {
    "autoscroll": false,
    "ein.hycell": false,
    "ein.tags": "worksheet-0",
    "slideshow": {
     "slide_type": "-"
    }
   },
   "outputs": [
    {
     "data": {
      "text/plain": [
       "1.8098507061684692"
      ]
     },
     "execution_count": 237,
     "metadata": {},
     "output_type": "execute_result"
    }
   ],
   "source": [
    "sum(NcalcResults(labels,nptst))"
   ]
  },
  {
   "cell_type": "code",
   "execution_count": 238,
   "metadata": {
    "autoscroll": false,
    "ein.hycell": false,
    "ein.tags": "worksheet-0",
    "slideshow": {
     "slide_type": "-"
    }
   },
   "outputs": [],
   "source": [
    "def scaleLabels(initial,prepNp):\n",
    "    initialResult = NcalcResults(initial, prepNp)\n",
    "    multipliers = [1/x for x in initialResult]\n",
    "    return len(initialResult) "
   ]
  },
  {
   "cell_type": "code",
   "execution_count": 329,
   "metadata": {
    "autoscroll": false,
    "ein.hycell": false,
    "ein.tags": "worksheet-0",
    "slideshow": {
     "slide_type": "-"
    }
   },
   "outputs": [],
   "source": [
    "def NscaleLabelsArray(initial, derivatives, prepNp):\n",
    "    initialResult = NcalcResults(initial, prepNp)\n",
    "    multipliers = [1/x for x in initialResult]\n",
    "    scaled = [ [y*multipliers[i] for i,y in enumerate(NcalcResults(x,prepNp))] for x in np.array(derivatives)[:,0]]\n",
    "    return scaled"
   ]
  },
  {
   "cell_type": "code",
   "execution_count": 332,
   "metadata": {
    "autoscroll": false,
    "ein.hycell": false,
    "ein.tags": "worksheet-0",
    "slideshow": {
     "slide_type": "-"
    }
   },
   "outputs": [],
   "source": [
    "readysample = SIScaledToDf(addSummIndexToScaled(NscaleLabelsArray(labels,sample,nptst)))"
   ]
  },
  {
   "cell_type": "code",
   "execution_count": 334,
   "metadata": {
    "autoscroll": false,
    "ein.hycell": false,
    "ein.tags": "worksheet-0",
    "slideshow": {
     "slide_type": "-"
    }
   },
   "outputs": [
    {
     "data": {
      "text/html": [
       "<div>\n",
       "<style scoped>\n",
       "    .dataframe tbody tr th:only-of-type {\n",
       "        vertical-align: middle;\n",
       "    }\n",
       "\n",
       "    .dataframe tbody tr th {\n",
       "        vertical-align: top;\n",
       "    }\n",
       "\n",
       "    .dataframe thead th {\n",
       "        text-align: right;\n",
       "    }\n",
       "</style>\n",
       "<table border=\"1\" class=\"dataframe\">\n",
       "  <thead>\n",
       "    <tr style=\"text-align: right;\">\n",
       "      <th></th>\n",
       "      <th>Uniformity</th>\n",
       "      <th>Alteration</th>\n",
       "      <th>Repeats</th>\n",
       "      <th>Proximity</th>\n",
       "      <th>Summ</th>\n",
       "      <th>Index</th>\n",
       "    </tr>\n",
       "  </thead>\n",
       "  <tbody>\n",
       "    <tr>\n",
       "      <th>26</th>\n",
       "      <td>0.361490</td>\n",
       "      <td>0.935110</td>\n",
       "      <td>0.499803</td>\n",
       "      <td>0.691128</td>\n",
       "      <td>2.487531</td>\n",
       "      <td>26.0</td>\n",
       "    </tr>\n",
       "    <tr>\n",
       "      <th>28</th>\n",
       "      <td>0.387165</td>\n",
       "      <td>0.861033</td>\n",
       "      <td>0.549627</td>\n",
       "      <td>0.691128</td>\n",
       "      <td>2.488954</td>\n",
       "      <td>28.0</td>\n",
       "    </tr>\n",
       "    <tr>\n",
       "      <th>27</th>\n",
       "      <td>0.387165</td>\n",
       "      <td>0.861033</td>\n",
       "      <td>0.549627</td>\n",
       "      <td>0.691128</td>\n",
       "      <td>2.488954</td>\n",
       "      <td>27.0</td>\n",
       "    </tr>\n",
       "    <tr>\n",
       "      <th>29</th>\n",
       "      <td>0.426005</td>\n",
       "      <td>0.869840</td>\n",
       "      <td>0.513376</td>\n",
       "      <td>0.691128</td>\n",
       "      <td>2.500349</td>\n",
       "      <td>29.0</td>\n",
       "    </tr>\n",
       "    <tr>\n",
       "      <th>30</th>\n",
       "      <td>0.351021</td>\n",
       "      <td>0.928725</td>\n",
       "      <td>0.534633</td>\n",
       "      <td>0.691128</td>\n",
       "      <td>2.505507</td>\n",
       "      <td>30.0</td>\n",
       "    </tr>\n",
       "    <tr>\n",
       "      <th>31</th>\n",
       "      <td>0.380438</td>\n",
       "      <td>0.935110</td>\n",
       "      <td>0.499450</td>\n",
       "      <td>0.691128</td>\n",
       "      <td>2.506127</td>\n",
       "      <td>31.0</td>\n",
       "    </tr>\n",
       "    <tr>\n",
       "      <th>33</th>\n",
       "      <td>0.361490</td>\n",
       "      <td>0.952850</td>\n",
       "      <td>0.503447</td>\n",
       "      <td>0.691128</td>\n",
       "      <td>2.508915</td>\n",
       "      <td>33.0</td>\n",
       "    </tr>\n",
       "    <tr>\n",
       "      <th>32</th>\n",
       "      <td>0.361490</td>\n",
       "      <td>0.952850</td>\n",
       "      <td>0.503447</td>\n",
       "      <td>0.691128</td>\n",
       "      <td>2.508915</td>\n",
       "      <td>32.0</td>\n",
       "    </tr>\n",
       "    <tr>\n",
       "      <th>34</th>\n",
       "      <td>0.361490</td>\n",
       "      <td>0.952850</td>\n",
       "      <td>0.503447</td>\n",
       "      <td>0.691128</td>\n",
       "      <td>2.508915</td>\n",
       "      <td>34.0</td>\n",
       "    </tr>\n",
       "    <tr>\n",
       "      <th>35</th>\n",
       "      <td>0.387165</td>\n",
       "      <td>0.864531</td>\n",
       "      <td>0.572202</td>\n",
       "      <td>0.691128</td>\n",
       "      <td>2.515026</td>\n",
       "      <td>35.0</td>\n",
       "    </tr>\n",
       "    <tr>\n",
       "      <th>16</th>\n",
       "      <td>0.479647</td>\n",
       "      <td>0.935110</td>\n",
       "      <td>0.588960</td>\n",
       "      <td>0.691128</td>\n",
       "      <td>2.694846</td>\n",
       "      <td>16.0</td>\n",
       "    </tr>\n",
       "    <tr>\n",
       "      <th>19</th>\n",
       "      <td>0.479647</td>\n",
       "      <td>0.952850</td>\n",
       "      <td>0.592670</td>\n",
       "      <td>0.691128</td>\n",
       "      <td>2.716295</td>\n",
       "      <td>19.0</td>\n",
       "    </tr>\n",
       "    <tr>\n",
       "      <th>18</th>\n",
       "      <td>0.479647</td>\n",
       "      <td>0.952850</td>\n",
       "      <td>0.592670</td>\n",
       "      <td>0.691128</td>\n",
       "      <td>2.716295</td>\n",
       "      <td>18.0</td>\n",
       "    </tr>\n",
       "    <tr>\n",
       "      <th>17</th>\n",
       "      <td>0.479647</td>\n",
       "      <td>0.952850</td>\n",
       "      <td>0.592670</td>\n",
       "      <td>0.691128</td>\n",
       "      <td>2.716295</td>\n",
       "      <td>17.0</td>\n",
       "    </tr>\n",
       "    <tr>\n",
       "      <th>20</th>\n",
       "      <td>0.442126</td>\n",
       "      <td>0.935110</td>\n",
       "      <td>0.571445</td>\n",
       "      <td>0.774164</td>\n",
       "      <td>2.722845</td>\n",
       "      <td>20.0</td>\n",
       "    </tr>\n",
       "    <tr>\n",
       "      <th>21</th>\n",
       "      <td>0.442126</td>\n",
       "      <td>0.935110</td>\n",
       "      <td>0.571445</td>\n",
       "      <td>0.774164</td>\n",
       "      <td>2.722845</td>\n",
       "      <td>21.0</td>\n",
       "    </tr>\n",
       "    <tr>\n",
       "      <th>22</th>\n",
       "      <td>0.442126</td>\n",
       "      <td>0.935110</td>\n",
       "      <td>0.571445</td>\n",
       "      <td>0.774164</td>\n",
       "      <td>2.722845</td>\n",
       "      <td>22.0</td>\n",
       "    </tr>\n",
       "    <tr>\n",
       "      <th>23</th>\n",
       "      <td>0.442126</td>\n",
       "      <td>0.935110</td>\n",
       "      <td>0.571445</td>\n",
       "      <td>0.774164</td>\n",
       "      <td>2.722845</td>\n",
       "      <td>23.0</td>\n",
       "    </tr>\n",
       "    <tr>\n",
       "      <th>24</th>\n",
       "      <td>0.479647</td>\n",
       "      <td>0.931031</td>\n",
       "      <td>0.626265</td>\n",
       "      <td>0.691128</td>\n",
       "      <td>2.728071</td>\n",
       "      <td>24.0</td>\n",
       "    </tr>\n",
       "    <tr>\n",
       "      <th>25</th>\n",
       "      <td>0.479647</td>\n",
       "      <td>0.931031</td>\n",
       "      <td>0.626265</td>\n",
       "      <td>0.691128</td>\n",
       "      <td>2.728071</td>\n",
       "      <td>25.0</td>\n",
       "    </tr>\n",
       "    <tr>\n",
       "      <th>6</th>\n",
       "      <td>0.655978</td>\n",
       "      <td>0.856607</td>\n",
       "      <td>0.684932</td>\n",
       "      <td>0.795794</td>\n",
       "      <td>2.993311</td>\n",
       "      <td>6.0</td>\n",
       "    </tr>\n",
       "    <tr>\n",
       "      <th>7</th>\n",
       "      <td>0.655978</td>\n",
       "      <td>0.856607</td>\n",
       "      <td>0.702126</td>\n",
       "      <td>0.795794</td>\n",
       "      <td>3.010505</td>\n",
       "      <td>7.0</td>\n",
       "    </tr>\n",
       "    <tr>\n",
       "      <th>8</th>\n",
       "      <td>0.655978</td>\n",
       "      <td>0.856607</td>\n",
       "      <td>0.702126</td>\n",
       "      <td>0.795794</td>\n",
       "      <td>3.010505</td>\n",
       "      <td>8.0</td>\n",
       "    </tr>\n",
       "    <tr>\n",
       "      <th>9</th>\n",
       "      <td>0.619537</td>\n",
       "      <td>0.935110</td>\n",
       "      <td>0.689411</td>\n",
       "      <td>0.774164</td>\n",
       "      <td>3.018223</td>\n",
       "      <td>9.0</td>\n",
       "    </tr>\n",
       "    <tr>\n",
       "      <th>10</th>\n",
       "      <td>0.619537</td>\n",
       "      <td>0.931031</td>\n",
       "      <td>0.710686</td>\n",
       "      <td>0.774164</td>\n",
       "      <td>3.035418</td>\n",
       "      <td>10.0</td>\n",
       "    </tr>\n",
       "    <tr>\n",
       "      <th>12</th>\n",
       "      <td>0.629779</td>\n",
       "      <td>0.939280</td>\n",
       "      <td>0.693681</td>\n",
       "      <td>0.780243</td>\n",
       "      <td>3.042984</td>\n",
       "      <td>12.0</td>\n",
       "    </tr>\n",
       "    <tr>\n",
       "      <th>11</th>\n",
       "      <td>0.629779</td>\n",
       "      <td>0.939280</td>\n",
       "      <td>0.693681</td>\n",
       "      <td>0.780243</td>\n",
       "      <td>3.042984</td>\n",
       "      <td>11.0</td>\n",
       "    </tr>\n",
       "    <tr>\n",
       "      <th>14</th>\n",
       "      <td>0.651360</td>\n",
       "      <td>0.941138</td>\n",
       "      <td>0.713500</td>\n",
       "      <td>0.793053</td>\n",
       "      <td>3.099052</td>\n",
       "      <td>14.0</td>\n",
       "    </tr>\n",
       "    <tr>\n",
       "      <th>13</th>\n",
       "      <td>0.651360</td>\n",
       "      <td>0.941138</td>\n",
       "      <td>0.713500</td>\n",
       "      <td>0.793053</td>\n",
       "      <td>3.099052</td>\n",
       "      <td>13.0</td>\n",
       "    </tr>\n",
       "    <tr>\n",
       "      <th>15</th>\n",
       "      <td>0.666220</td>\n",
       "      <td>0.931031</td>\n",
       "      <td>0.701522</td>\n",
       "      <td>0.801874</td>\n",
       "      <td>3.100647</td>\n",
       "      <td>15.0</td>\n",
       "    </tr>\n",
       "    <tr>\n",
       "      <th>1</th>\n",
       "      <td>0.806110</td>\n",
       "      <td>0.931031</td>\n",
       "      <td>0.785943</td>\n",
       "      <td>0.884910</td>\n",
       "      <td>3.407994</td>\n",
       "      <td>1.0</td>\n",
       "    </tr>\n",
       "    <tr>\n",
       "      <th>2</th>\n",
       "      <td>0.827690</td>\n",
       "      <td>0.935110</td>\n",
       "      <td>0.805762</td>\n",
       "      <td>0.897720</td>\n",
       "      <td>3.466283</td>\n",
       "      <td>2.0</td>\n",
       "    </tr>\n",
       "    <tr>\n",
       "      <th>3</th>\n",
       "      <td>0.823670</td>\n",
       "      <td>0.913920</td>\n",
       "      <td>0.907738</td>\n",
       "      <td>0.895333</td>\n",
       "      <td>3.540661</td>\n",
       "      <td>3.0</td>\n",
       "    </tr>\n",
       "    <tr>\n",
       "      <th>4</th>\n",
       "      <td>0.807755</td>\n",
       "      <td>0.939417</td>\n",
       "      <td>0.796563</td>\n",
       "      <td>1.000000</td>\n",
       "      <td>3.543736</td>\n",
       "      <td>4.0</td>\n",
       "    </tr>\n",
       "    <tr>\n",
       "      <th>5</th>\n",
       "      <td>0.828287</td>\n",
       "      <td>0.923320</td>\n",
       "      <td>0.894232</td>\n",
       "      <td>0.898074</td>\n",
       "      <td>3.543913</td>\n",
       "      <td>5.0</td>\n",
       "    </tr>\n",
       "    <tr>\n",
       "      <th>0</th>\n",
       "      <td>1.000000</td>\n",
       "      <td>1.000000</td>\n",
       "      <td>1.000000</td>\n",
       "      <td>1.000000</td>\n",
       "      <td>4.000000</td>\n",
       "      <td>0.0</td>\n",
       "    </tr>\n",
       "  </tbody>\n",
       "</table>\n",
       "</div>"
      ],
      "text/plain": [
       "    Uniformity  Alteration   Repeats  Proximity      Summ  Index\n",
       "26    0.361490    0.935110  0.499803   0.691128  2.487531   26.0\n",
       "28    0.387165    0.861033  0.549627   0.691128  2.488954   28.0\n",
       "27    0.387165    0.861033  0.549627   0.691128  2.488954   27.0\n",
       "29    0.426005    0.869840  0.513376   0.691128  2.500349   29.0\n",
       "30    0.351021    0.928725  0.534633   0.691128  2.505507   30.0\n",
       "31    0.380438    0.935110  0.499450   0.691128  2.506127   31.0\n",
       "33    0.361490    0.952850  0.503447   0.691128  2.508915   33.0\n",
       "32    0.361490    0.952850  0.503447   0.691128  2.508915   32.0\n",
       "34    0.361490    0.952850  0.503447   0.691128  2.508915   34.0\n",
       "35    0.387165    0.864531  0.572202   0.691128  2.515026   35.0\n",
       "16    0.479647    0.935110  0.588960   0.691128  2.694846   16.0\n",
       "19    0.479647    0.952850  0.592670   0.691128  2.716295   19.0\n",
       "18    0.479647    0.952850  0.592670   0.691128  2.716295   18.0\n",
       "17    0.479647    0.952850  0.592670   0.691128  2.716295   17.0\n",
       "20    0.442126    0.935110  0.571445   0.774164  2.722845   20.0\n",
       "21    0.442126    0.935110  0.571445   0.774164  2.722845   21.0\n",
       "22    0.442126    0.935110  0.571445   0.774164  2.722845   22.0\n",
       "23    0.442126    0.935110  0.571445   0.774164  2.722845   23.0\n",
       "24    0.479647    0.931031  0.626265   0.691128  2.728071   24.0\n",
       "25    0.479647    0.931031  0.626265   0.691128  2.728071   25.0\n",
       "6     0.655978    0.856607  0.684932   0.795794  2.993311    6.0\n",
       "7     0.655978    0.856607  0.702126   0.795794  3.010505    7.0\n",
       "8     0.655978    0.856607  0.702126   0.795794  3.010505    8.0\n",
       "9     0.619537    0.935110  0.689411   0.774164  3.018223    9.0\n",
       "10    0.619537    0.931031  0.710686   0.774164  3.035418   10.0\n",
       "12    0.629779    0.939280  0.693681   0.780243  3.042984   12.0\n",
       "11    0.629779    0.939280  0.693681   0.780243  3.042984   11.0\n",
       "14    0.651360    0.941138  0.713500   0.793053  3.099052   14.0\n",
       "13    0.651360    0.941138  0.713500   0.793053  3.099052   13.0\n",
       "15    0.666220    0.931031  0.701522   0.801874  3.100647   15.0\n",
       "1     0.806110    0.931031  0.785943   0.884910  3.407994    1.0\n",
       "2     0.827690    0.935110  0.805762   0.897720  3.466283    2.0\n",
       "3     0.823670    0.913920  0.907738   0.895333  3.540661    3.0\n",
       "4     0.807755    0.939417  0.796563   1.000000  3.543736    4.0\n",
       "5     0.828287    0.923320  0.894232   0.898074  3.543913    5.0\n",
       "0     1.000000    1.000000  1.000000   1.000000  4.000000    0.0"
      ]
     },
     "execution_count": 334,
     "metadata": {},
     "output_type": "execute_result"
    }
   ],
   "source": [
    "readysample.sort_values(by=['Summ'])"
   ]
  },
  {
   "cell_type": "code",
   "execution_count": 327,
   "metadata": {
    "autoscroll": false,
    "ein.hycell": false,
    "ein.tags": "worksheet-0",
    "slideshow": {
     "slide_type": "-"
    }
   },
   "outputs": [],
   "source": [
    "def scaleLabelsArray(initial, derivatives, transDf):\n",
    "    initialResult = calcResults(initial, transDf)\n",
    "    multipliers = [1/x for x in initialResult]\n",
    "    scaled = [ [y*multipliers[i] for i,y in enumerate(calcResults(x,transDf))] for x in derivatives]\n",
    "    return scaled\n",
    "\n",
    "def addSummIndexToScaled(scaledArr):\n",
    "    return [x+[sum(x),i] for i,x in enumerate(scaledArr)]"
   ]
  },
  {
   "cell_type": "code",
   "execution_count": 241,
   "metadata": {
    "autoscroll": false,
    "ein.hycell": false,
    "ein.tags": "worksheet-0",
    "slideshow": {
     "slide_type": "-"
    }
   },
   "outputs": [],
   "source": [
    "def SIScaledToDf(SIScaledArr):\n",
    "    columns = ['Uniformity', 'Alteration', 'Repeats','Proximity', 'Summ', 'Index' ]\n",
    "    return pd.DataFrame(np.array(SIScaledArr), columns=columns)"
   ]
  },
  {
   "cell_type": "code",
   "execution_count": 340,
   "metadata": {
    "autoscroll": false,
    "ein.hycell": false,
    "ein.tags": "worksheet-0",
    "slideshow": {
     "slide_type": "-"
    }
   },
   "outputs": [
    {
     "data": {
      "image/png": "[encoded data removed]",
      "text/plain": [
       "<Figure size 720x720 with 2 Axes>"
      ]
     },
     "metadata": {},
     "output_type": "display_data"
    }
   ],
   "source": [
    "drawLayout(list(sample[30][0]), translationMatcherFull, 0)"
   ]
  },
  {
   "cell_type": "code",
   "execution_count": 349,
   "metadata": {
    "autoscroll": false,
    "ein.hycell": false,
    "ein.tags": "worksheet-0",
    "slideshow": {
     "slide_type": "-"
    }
   },
   "outputs": [
    {
     "data": {
      "image/png": "[encoded data removed]",
      "text/plain": [
       "<Figure size 720x720 with 2 Axes>"
      ]
     },
     "metadata": {},
     "output_type": "display_data"
    }
   ],
   "source": [
    "\n",
    "drawLayout(convoluteZone(list(sample[30][0])), translationMatcherFull, 1)"
   ]
  },
  {
   "cell_type": "code",
   "execution_count": 351,
   "metadata": {
    "autoscroll": false,
    "ein.hycell": false,
    "ein.tags": "worksheet-0",
    "slideshow": {
     "slide_type": "-"
    }
   },
   "outputs": [
    {
     "data": {
      "image/png": "[encoded data removed]",
      "text/plain": [
       "<Figure size 720x720 with 2 Axes>"
      ]
     },
     "metadata": {},
     "output_type": "display_data"
    }
   ],
   "source": [
    "drawLayout(convoluteZone(list(sample[0][0])), translationMatcherFull, 1)"
   ]
  },
  {
   "cell_type": "code",
   "execution_count": 352,
   "metadata": {
    "autoscroll": false,
    "ein.hycell": false,
    "ein.tags": "worksheet-0",
    "slideshow": {
     "slide_type": "-"
    }
   },
   "outputs": [
    {
     "data": {
      "text/plain": [
       "[0.3972855371193979,\n",
       " 0.5206742068155112,\n",
       " 0.2225897213256184,\n",
       " 0.6693012409079415]"
      ]
     },
     "execution_count": 352,
     "metadata": {},
     "output_type": "execute_result"
    }
   ],
   "source": [
    "NcalcResults(labels,nptst)"
   ]
  }
 ],
 "metadata": {
  "kernelspec": {
   "display_name": "qwlayout",
   "language": "python",
   "name": "qwlayout"
  },
  "language_info": {
   "codemirror_mode": {
    "name": "ipython",
    "version": 3
   },
   "file_extension": ".py",
   "mimetype": "text/x-python",
   "name": "python",
   "nbconvert_exporter": "python",
   "pygments_lexer": "ipython3",
   "version": "3.7.6"
  },
  "name": "ergo2.ipynb"
 },
 "nbformat": 4,
 "nbformat_minor": 4
}
