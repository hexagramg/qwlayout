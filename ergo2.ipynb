{
 "cells": [
  {
   "cell_type": "code",
   "execution_count": 176,
   "metadata": {},
   "outputs": [],
   "source": [
    "import pandas as pd\n",
    "import numpy as np\n",
    "import re\n",
    "import seaborn as sns\n",
    "from html.parser import HTMLParser\n",
    "import matplotlib.pyplot as plt\n",
    "import matplotlib as mtp\n",
    "import sklearn as skl\n",
    "from sklearn.preprocessing import MinMaxScaler\n",
    "import copy\n"
   ]
  },
  {
   "cell_type": "code",
   "execution_count": 131,
   "metadata": {},
   "outputs": [],
   "source": [
    "mtp.rcParams['figure.figsize'] = [15, 15]\n",
    "sns.set_context('paper', font_scale=2)"
   ]
  },
  {
   "cell_type": "code",
   "execution_count": 132,
   "metadata": {},
   "outputs": [],
   "source": [
    "data = pd.read_csv('/mnt/d/ergo/dialogues.tsv', sep='\\t', header=0)"
   ]
  },
  {
   "cell_type": "code",
   "execution_count": 133,
   "metadata": {},
   "outputs": [
    {
     "data": {
      "text/plain": [
       "'<span class=participant_2>Пользователь 2: Здравствуйте</span><br /><span class=participant_2>Пользователь 2: Я Леша</span><br /><span class=participant_1>Пользователь 1: Здравствуйте</span><br /><span class=participant_1>Пользователь 1: Я Егор</span><br /><span class=participant_2>Пользователь 2: Я учусь в 6 классе</span><br /><span class=participant_1>Пользователь 1: А мне 30 и я уже работаю</span><br /><span class=participant_2>Пользователь 2: А я тоже хочу. На машину скопить.</span><br /><span class=participant_1>Пользователь 1: Правда мне не нравится моя работа</span><br /><span class=participant_2>Пользователь 2: Почему?</span><br /><span class=participant_1>Пользователь 1: Мало платят</span><br /><span class=participant_1>Пользователь 1: На семью не хватает</span><br /><span class=participant_1>Пользователь 1: Жена и трое детей</span><br /><span class=participant_2>Пользователь 2: А... а я на машину...</span><br /><span class=participant_2>Пользователь 2: Ого</span><br />'"
      ]
     },
     "execution_count": 133,
     "metadata": {},
     "output_type": "execute_result"
    }
   ],
   "source": [
    "data.dialogue[3]"
   ]
  },
  {
   "cell_type": "code",
   "execution_count": 134,
   "metadata": {},
   "outputs": [],
   "source": [
    "phrases = []"
   ]
  },
  {
   "cell_type": "code",
   "execution_count": 135,
   "metadata": {},
   "outputs": [],
   "source": [
    "class DataParser(HTMLParser):\n",
    "    def handle_data(self, data):\n",
    "        splitted = data.split(':')\n",
    "        \n",
    "        filtered =  re.sub(\"[^\\u0430-\\u044F ]\", \"\", ''.join(splitted[1:]).lower())\n",
    "        phrases.append(filtered)"
   ]
  },
  {
   "cell_type": "code",
   "execution_count": 136,
   "metadata": {},
   "outputs": [],
   "source": [
    "parser = DataParser()"
   ]
  },
  {
   "cell_type": "code",
   "execution_count": 137,
   "metadata": {},
   "outputs": [],
   "source": [
    "for episode in data[\"dialogue\"].to_numpy().tolist():\n",
    "    parser.feed(episode)"
   ]
  },
  {
   "cell_type": "code",
   "execution_count": 138,
   "metadata": {},
   "outputs": [
    {
     "data": {
      "text/plain": [
       "' я продавец выращиванию овощи и фрукты на даче и продаю'"
      ]
     },
     "execution_count": 138,
     "metadata": {},
     "output_type": "execute_result"
    }
   ],
   "source": [
    "phrases[101]"
   ]
  },
  {
   "cell_type": "code",
   "execution_count": 139,
   "metadata": {},
   "outputs": [],
   "source": [
    "firstDimenstion = dict()"
   ]
  },
  {
   "cell_type": "code",
   "execution_count": 140,
   "metadata": {},
   "outputs": [],
   "source": [
    "def incOrAdd(key, dictionary):\n",
    "    if key not in dictionary:\n",
    "        dictionary[key] = 1\n",
    "    else: \n",
    "        dictionary[key] += 1"
   ]
  },
  {
   "cell_type": "code",
   "execution_count": 141,
   "metadata": {},
   "outputs": [],
   "source": [
    "for phrase in phrases:\n",
    "    for symb in phrase:\n",
    "        if symb != ' ':\n",
    "            incOrAdd(symb, firstDimenstion)\n",
    "        \n",
    "            "
   ]
  },
  {
   "cell_type": "code",
   "execution_count": 14,
   "metadata": {},
   "outputs": [
    {
     "data": {
      "text/plain": [
       "220827"
      ]
     },
     "execution_count": 14,
     "metadata": {},
     "output_type": "execute_result"
    }
   ],
   "source": [
    "firstDimenstion[\"в\"]"
   ]
  },
  {
   "cell_type": "code",
   "execution_count": 178,
   "metadata": {},
   "outputs": [],
   "source": [
    "labels = [['й', 'ц', 'у', 'к', 'е', 'н', 'г', 'ш', 'щ', 'з', 'х', 'ъ'], \n",
    "             ['ф', 'ы', 'в', 'а', 'п', 'р', 'о', 'л', 'д', 'ж', 'э', ''],\n",
    "              ['я', 'ч', 'с', 'м', 'и', 'т', 'ь', 'б', 'ю', '', '', '']]"
   ]
  },
  {
   "cell_type": "code",
   "execution_count": 143,
   "metadata": {},
   "outputs": [],
   "source": [
    "depth = []\n",
    "for row in labels: \n",
    "    drow = []\n",
    "    for label in row:\n",
    "        if label != '':\n",
    "            drow.append(firstDimenstion[label])\n",
    "        else: \n",
    "            drow.append(0)\n",
    "    depth.append(drow)\n"
   ]
  },
  {
   "cell_type": "code",
   "execution_count": 17,
   "metadata": {},
   "outputs": [
    {
     "data": {
      "image/png": "[encoded data removed]",
      "text/plain": [
       "<Figure size 1080x1080 with 2 Axes>"
      ]
     },
     "metadata": {
      "needs_background": "light"
     },
     "output_type": "display_data"
    }
   ],
   "source": [
    "fig, ax = plt.subplots()\n",
    "ax = sns.heatmap(np.array(depth), annot = np.array(labels), fmt = '')"
   ]
  },
  {
   "cell_type": "code",
   "execution_count": 144,
   "metadata": {},
   "outputs": [],
   "source": [
    "groups = [\"йфя\",\"цыч\",\"увс\",\"камепи\",\"нртгоь\",\"шлб\",\"щдю\",\"зжхэъ\"]"
   ]
  },
  {
   "cell_type": "code",
   "execution_count": 145,
   "metadata": {},
   "outputs": [],
   "source": [
    "def generateSparse(depth):\n",
    "    sparseDimension = dict()\n",
    "    for phrase in phrases:\n",
    "        words = phrase.split(' ')\n",
    "        for word in words:\n",
    "            if len(word) > depth:\n",
    "                length = len(word)\n",
    "                for i,letter in enumerate(word):\n",
    "                    if i+depth < length:\n",
    "                        incOrAdd((letter,word[i+depth]), sparseDimension)\n",
    "    return sparseDimension\n",
    "                "
   ]
  },
  {
   "cell_type": "code",
   "execution_count": 146,
   "metadata": {},
   "outputs": [],
   "source": [
    "sparse = generateSparse(1)"
   ]
  },
  {
   "cell_type": "code",
   "execution_count": 147,
   "metadata": {},
   "outputs": [],
   "source": [
    "offset = 1072"
   ]
  },
  {
   "cell_type": "code",
   "execution_count": 148,
   "metadata": {},
   "outputs": [],
   "source": [
    "delta = ord('я') - ord('а') +1"
   ]
  },
  {
   "cell_type": "code",
   "execution_count": 149,
   "metadata": {},
   "outputs": [],
   "source": [
    "sparseArray = np.zeros((delta, delta))\n",
    "\n"
   ]
  },
  {
   "cell_type": "code",
   "execution_count": 150,
   "metadata": {},
   "outputs": [],
   "source": [
    "for key in sparse:\n",
    "    sparseArray[ord(key[0])-offset][ord(key[1])-offset] = sparse[key]"
   ]
  },
  {
   "cell_type": "code",
   "execution_count": 151,
   "metadata": {},
   "outputs": [],
   "source": [
    "x_axis_labels = [chr(x) for x in range (offset,offset+delta)]"
   ]
  },
  {
   "cell_type": "code",
   "execution_count": null,
   "metadata": {},
   "outputs": [],
   "source": []
  },
  {
   "cell_type": "code",
   "execution_count": 26,
   "metadata": {},
   "outputs": [
    {
     "data": {
      "image/png": "[encoded data removed]",
      "text/plain": [
       "<Figure size 1080x1080 with 2 Axes>"
      ]
     },
     "metadata": {
      "needs_background": "light"
     },
     "output_type": "display_data"
    }
   ],
   "source": [
    "fig, ax = plt.subplots()\n",
    "ax = sns.heatmap(sparseArray, fmt = '', xticklabels=x_axis_labels, yticklabels=x_axis_labels)"
   ]
  },
  {
   "cell_type": "code",
   "execution_count": 152,
   "metadata": {},
   "outputs": [],
   "source": [
    "sparDf = pd.DataFrame(sparseArray)"
   ]
  },
  {
   "cell_type": "code",
   "execution_count": 153,
   "metadata": {},
   "outputs": [],
   "source": [
    "sparDf.columns = x_axis_labels\n",
    "sparDf.index = x_axis_labels"
   ]
  },
  {
   "cell_type": "code",
   "execution_count": 29,
   "metadata": {},
   "outputs": [],
   "source": [
    "avg = sparDf.mean().mean()"
   ]
  },
  {
   "cell_type": "code",
   "execution_count": 30,
   "metadata": {},
   "outputs": [],
   "source": [
    "spRDf = sparDf.drop(sparDf[sparDf.mean() < avg].index)"
   ]
  },
  {
   "cell_type": "code",
   "execution_count": 31,
   "metadata": {},
   "outputs": [],
   "source": [
    "spRDf = spRDf.drop(spRDf.columns[spRDf.mean() < avg], axis=1)\n"
   ]
  },
  {
   "cell_type": "code",
   "execution_count": 32,
   "metadata": {},
   "outputs": [
    {
     "data": {
      "text/html": [
       "<div>\n",
       "<style scoped>\n",
       "    .dataframe tbody tr th:only-of-type {\n",
       "        vertical-align: middle;\n",
       "    }\n",
       "\n",
       "    .dataframe tbody tr th {\n",
       "        vertical-align: top;\n",
       "    }\n",
       "\n",
       "    .dataframe thead th {\n",
       "        text-align: right;\n",
       "    }\n",
       "</style>\n",
       "<table border=\"1\" class=\"dataframe\">\n",
       "  <thead>\n",
       "    <tr style=\"text-align: right;\">\n",
       "      <th></th>\n",
       "      <th>а</th>\n",
       "      <th>б</th>\n",
       "      <th>в</th>\n",
       "      <th>д</th>\n",
       "      <th>е</th>\n",
       "      <th>и</th>\n",
       "      <th>к</th>\n",
       "      <th>л</th>\n",
       "      <th>м</th>\n",
       "      <th>н</th>\n",
       "      <th>...</th>\n",
       "      <th>р</th>\n",
       "      <th>с</th>\n",
       "      <th>т</th>\n",
       "      <th>у</th>\n",
       "      <th>ч</th>\n",
       "      <th>ш</th>\n",
       "      <th>ы</th>\n",
       "      <th>ь</th>\n",
       "      <th>ю</th>\n",
       "      <th>я</th>\n",
       "    </tr>\n",
       "  </thead>\n",
       "  <tbody>\n",
       "    <tr>\n",
       "      <th>а</th>\n",
       "      <td>1978.0</td>\n",
       "      <td>18663.0</td>\n",
       "      <td>19686.0</td>\n",
       "      <td>10628.0</td>\n",
       "      <td>21409.0</td>\n",
       "      <td>1712.0</td>\n",
       "      <td>42538.0</td>\n",
       "      <td>20817.0</td>\n",
       "      <td>15098.0</td>\n",
       "      <td>25993.0</td>\n",
       "      <td>...</td>\n",
       "      <td>13201.0</td>\n",
       "      <td>29860.0</td>\n",
       "      <td>35444.0</td>\n",
       "      <td>1762.0</td>\n",
       "      <td>4943.0</td>\n",
       "      <td>6710.0</td>\n",
       "      <td>8.0</td>\n",
       "      <td>15.0</td>\n",
       "      <td>25661.0</td>\n",
       "      <td>8837.0</td>\n",
       "    </tr>\n",
       "    <tr>\n",
       "      <th>е</th>\n",
       "      <td>888.0</td>\n",
       "      <td>20445.0</td>\n",
       "      <td>5624.0</td>\n",
       "      <td>10611.0</td>\n",
       "      <td>4472.0</td>\n",
       "      <td>241.0</td>\n",
       "      <td>11082.0</td>\n",
       "      <td>22792.0</td>\n",
       "      <td>33432.0</td>\n",
       "      <td>56153.0</td>\n",
       "      <td>...</td>\n",
       "      <td>24872.0</td>\n",
       "      <td>34995.0</td>\n",
       "      <td>58675.0</td>\n",
       "      <td>153.0</td>\n",
       "      <td>11270.0</td>\n",
       "      <td>20411.0</td>\n",
       "      <td>4.0</td>\n",
       "      <td>35.0</td>\n",
       "      <td>1833.0</td>\n",
       "      <td>428.0</td>\n",
       "    </tr>\n",
       "    <tr>\n",
       "      <th>и</th>\n",
       "      <td>1882.0</td>\n",
       "      <td>4953.0</td>\n",
       "      <td>33374.0</td>\n",
       "      <td>4041.0</td>\n",
       "      <td>10410.0</td>\n",
       "      <td>3217.0</td>\n",
       "      <td>11714.0</td>\n",
       "      <td>13431.0</td>\n",
       "      <td>21332.0</td>\n",
       "      <td>17510.0</td>\n",
       "      <td>...</td>\n",
       "      <td>7157.0</td>\n",
       "      <td>7686.0</td>\n",
       "      <td>32890.0</td>\n",
       "      <td>231.0</td>\n",
       "      <td>6019.0</td>\n",
       "      <td>10352.0</td>\n",
       "      <td>5.0</td>\n",
       "      <td>23.0</td>\n",
       "      <td>2125.0</td>\n",
       "      <td>9065.0</td>\n",
       "    </tr>\n",
       "    <tr>\n",
       "      <th>к</th>\n",
       "      <td>56772.0</td>\n",
       "      <td>26.0</td>\n",
       "      <td>2072.0</td>\n",
       "      <td>49.0</td>\n",
       "      <td>6590.0</td>\n",
       "      <td>15431.0</td>\n",
       "      <td>232.0</td>\n",
       "      <td>4629.0</td>\n",
       "      <td>260.0</td>\n",
       "      <td>1447.0</td>\n",
       "      <td>...</td>\n",
       "      <td>10136.0</td>\n",
       "      <td>3238.0</td>\n",
       "      <td>3800.0</td>\n",
       "      <td>15397.0</td>\n",
       "      <td>13.0</td>\n",
       "      <td>13.0</td>\n",
       "      <td>3.0</td>\n",
       "      <td>7.0</td>\n",
       "      <td>45.0</td>\n",
       "      <td>13.0</td>\n",
       "    </tr>\n",
       "    <tr>\n",
       "      <th>л</th>\n",
       "      <td>28417.0</td>\n",
       "      <td>133.0</td>\n",
       "      <td>90.0</td>\n",
       "      <td>178.0</td>\n",
       "      <td>23284.0</td>\n",
       "      <td>19374.0</td>\n",
       "      <td>2252.0</td>\n",
       "      <td>1353.0</td>\n",
       "      <td>79.0</td>\n",
       "      <td>969.0</td>\n",
       "      <td>...</td>\n",
       "      <td>19.0</td>\n",
       "      <td>1725.0</td>\n",
       "      <td>989.0</td>\n",
       "      <td>5347.0</td>\n",
       "      <td>113.0</td>\n",
       "      <td>62.0</td>\n",
       "      <td>2994.0</td>\n",
       "      <td>22918.0</td>\n",
       "      <td>55005.0</td>\n",
       "      <td>6417.0</td>\n",
       "    </tr>\n",
       "    <tr>\n",
       "      <th>н</th>\n",
       "      <td>49333.0</td>\n",
       "      <td>119.0</td>\n",
       "      <td>71.0</td>\n",
       "      <td>1708.0</td>\n",
       "      <td>53043.0</td>\n",
       "      <td>39055.0</td>\n",
       "      <td>2175.0</td>\n",
       "      <td>119.0</td>\n",
       "      <td>91.0</td>\n",
       "      <td>6101.0</td>\n",
       "      <td>...</td>\n",
       "      <td>3219.0</td>\n",
       "      <td>2776.0</td>\n",
       "      <td>6410.0</td>\n",
       "      <td>10739.0</td>\n",
       "      <td>1123.0</td>\n",
       "      <td>58.0</td>\n",
       "      <td>14587.0</td>\n",
       "      <td>17595.0</td>\n",
       "      <td>932.0</td>\n",
       "      <td>22871.0</td>\n",
       "    </tr>\n",
       "    <tr>\n",
       "      <th>о</th>\n",
       "      <td>318.0</td>\n",
       "      <td>30206.0</td>\n",
       "      <td>33113.0</td>\n",
       "      <td>27201.0</td>\n",
       "      <td>17521.0</td>\n",
       "      <td>5015.0</td>\n",
       "      <td>13026.0</td>\n",
       "      <td>26908.0</td>\n",
       "      <td>31079.0</td>\n",
       "      <td>13655.0</td>\n",
       "      <td>...</td>\n",
       "      <td>33753.0</td>\n",
       "      <td>20687.0</td>\n",
       "      <td>55529.0</td>\n",
       "      <td>893.0</td>\n",
       "      <td>23500.0</td>\n",
       "      <td>10945.0</td>\n",
       "      <td>10.0</td>\n",
       "      <td>20.0</td>\n",
       "      <td>2149.0</td>\n",
       "      <td>3218.0</td>\n",
       "    </tr>\n",
       "    <tr>\n",
       "      <th>р</th>\n",
       "      <td>58719.0</td>\n",
       "      <td>253.0</td>\n",
       "      <td>823.0</td>\n",
       "      <td>515.0</td>\n",
       "      <td>27816.0</td>\n",
       "      <td>37617.0</td>\n",
       "      <td>1411.0</td>\n",
       "      <td>195.0</td>\n",
       "      <td>2318.0</td>\n",
       "      <td>4450.0</td>\n",
       "      <td>...</td>\n",
       "      <td>196.0</td>\n",
       "      <td>1437.0</td>\n",
       "      <td>5513.0</td>\n",
       "      <td>11956.0</td>\n",
       "      <td>387.0</td>\n",
       "      <td>518.0</td>\n",
       "      <td>6927.0</td>\n",
       "      <td>1697.0</td>\n",
       "      <td>1584.0</td>\n",
       "      <td>2627.0</td>\n",
       "    </tr>\n",
       "    <tr>\n",
       "      <th>с</th>\n",
       "      <td>6991.0</td>\n",
       "      <td>246.0</td>\n",
       "      <td>8958.0</td>\n",
       "      <td>471.0</td>\n",
       "      <td>26056.0</td>\n",
       "      <td>11891.0</td>\n",
       "      <td>15599.0</td>\n",
       "      <td>8750.0</td>\n",
       "      <td>3788.0</td>\n",
       "      <td>9220.0</td>\n",
       "      <td>...</td>\n",
       "      <td>572.0</td>\n",
       "      <td>8639.0</td>\n",
       "      <td>54074.0</td>\n",
       "      <td>2855.0</td>\n",
       "      <td>1198.0</td>\n",
       "      <td>180.0</td>\n",
       "      <td>2661.0</td>\n",
       "      <td>14245.0</td>\n",
       "      <td>438.0</td>\n",
       "      <td>26820.0</td>\n",
       "    </tr>\n",
       "    <tr>\n",
       "      <th>т</th>\n",
       "      <td>46784.0</td>\n",
       "      <td>943.0</td>\n",
       "      <td>11831.0</td>\n",
       "      <td>2024.0</td>\n",
       "      <td>49964.0</td>\n",
       "      <td>17719.0</td>\n",
       "      <td>3820.0</td>\n",
       "      <td>3344.0</td>\n",
       "      <td>284.0</td>\n",
       "      <td>11934.0</td>\n",
       "      <td>...</td>\n",
       "      <td>14243.0</td>\n",
       "      <td>8799.0</td>\n",
       "      <td>326.0</td>\n",
       "      <td>6939.0</td>\n",
       "      <td>254.0</td>\n",
       "      <td>37.0</td>\n",
       "      <td>26849.0</td>\n",
       "      <td>57127.0</td>\n",
       "      <td>223.0</td>\n",
       "      <td>2899.0</td>\n",
       "    </tr>\n",
       "    <tr>\n",
       "      <th>ь</th>\n",
       "      <td>84.0</td>\n",
       "      <td>353.0</td>\n",
       "      <td>77.0</td>\n",
       "      <td>167.0</td>\n",
       "      <td>1782.0</td>\n",
       "      <td>497.0</td>\n",
       "      <td>7857.0</td>\n",
       "      <td>32.0</td>\n",
       "      <td>1924.0</td>\n",
       "      <td>6639.0</td>\n",
       "      <td>...</td>\n",
       "      <td>29.0</td>\n",
       "      <td>16261.0</td>\n",
       "      <td>551.0</td>\n",
       "      <td>40.0</td>\n",
       "      <td>447.0</td>\n",
       "      <td>4610.0</td>\n",
       "      <td>8.0</td>\n",
       "      <td>18.0</td>\n",
       "      <td>1755.0</td>\n",
       "      <td>3664.0</td>\n",
       "    </tr>\n",
       "  </tbody>\n",
       "</table>\n",
       "<p>11 rows × 21 columns</p>\n",
       "</div>"
      ],
      "text/plain": [
       "         а        б        в        д        е        и        к        л  \\\n",
       "а   1978.0  18663.0  19686.0  10628.0  21409.0   1712.0  42538.0  20817.0   \n",
       "е    888.0  20445.0   5624.0  10611.0   4472.0    241.0  11082.0  22792.0   \n",
       "и   1882.0   4953.0  33374.0   4041.0  10410.0   3217.0  11714.0  13431.0   \n",
       "к  56772.0     26.0   2072.0     49.0   6590.0  15431.0    232.0   4629.0   \n",
       "л  28417.0    133.0     90.0    178.0  23284.0  19374.0   2252.0   1353.0   \n",
       "н  49333.0    119.0     71.0   1708.0  53043.0  39055.0   2175.0    119.0   \n",
       "о    318.0  30206.0  33113.0  27201.0  17521.0   5015.0  13026.0  26908.0   \n",
       "р  58719.0    253.0    823.0    515.0  27816.0  37617.0   1411.0    195.0   \n",
       "с   6991.0    246.0   8958.0    471.0  26056.0  11891.0  15599.0   8750.0   \n",
       "т  46784.0    943.0  11831.0   2024.0  49964.0  17719.0   3820.0   3344.0   \n",
       "ь     84.0    353.0     77.0    167.0   1782.0    497.0   7857.0     32.0   \n",
       "\n",
       "         м        н  ...        р        с        т        у        ч  \\\n",
       "а  15098.0  25993.0  ...  13201.0  29860.0  35444.0   1762.0   4943.0   \n",
       "е  33432.0  56153.0  ...  24872.0  34995.0  58675.0    153.0  11270.0   \n",
       "и  21332.0  17510.0  ...   7157.0   7686.0  32890.0    231.0   6019.0   \n",
       "к    260.0   1447.0  ...  10136.0   3238.0   3800.0  15397.0     13.0   \n",
       "л     79.0    969.0  ...     19.0   1725.0    989.0   5347.0    113.0   \n",
       "н     91.0   6101.0  ...   3219.0   2776.0   6410.0  10739.0   1123.0   \n",
       "о  31079.0  13655.0  ...  33753.0  20687.0  55529.0    893.0  23500.0   \n",
       "р   2318.0   4450.0  ...    196.0   1437.0   5513.0  11956.0    387.0   \n",
       "с   3788.0   9220.0  ...    572.0   8639.0  54074.0   2855.0   1198.0   \n",
       "т    284.0  11934.0  ...  14243.0   8799.0    326.0   6939.0    254.0   \n",
       "ь   1924.0   6639.0  ...     29.0  16261.0    551.0     40.0    447.0   \n",
       "\n",
       "         ш        ы        ь        ю        я  \n",
       "а   6710.0      8.0     15.0  25661.0   8837.0  \n",
       "е  20411.0      4.0     35.0   1833.0    428.0  \n",
       "и  10352.0      5.0     23.0   2125.0   9065.0  \n",
       "к     13.0      3.0      7.0     45.0     13.0  \n",
       "л     62.0   2994.0  22918.0  55005.0   6417.0  \n",
       "н     58.0  14587.0  17595.0    932.0  22871.0  \n",
       "о  10945.0     10.0     20.0   2149.0   3218.0  \n",
       "р    518.0   6927.0   1697.0   1584.0   2627.0  \n",
       "с    180.0   2661.0  14245.0    438.0  26820.0  \n",
       "т     37.0  26849.0  57127.0    223.0   2899.0  \n",
       "ь   4610.0      8.0     18.0   1755.0   3664.0  \n",
       "\n",
       "[11 rows x 21 columns]"
      ]
     },
     "execution_count": 32,
     "metadata": {},
     "output_type": "execute_result"
    }
   ],
   "source": [
    "spRDf"
   ]
  },
  {
   "cell_type": "code",
   "execution_count": 33,
   "metadata": {},
   "outputs": [
    {
     "data": {
      "image/png": "[encoded data removed]",
      "text/plain": [
       "<Figure size 1080x1080 with 2 Axes>"
      ]
     },
     "metadata": {
      "needs_background": "light"
     },
     "output_type": "display_data"
    }
   ],
   "source": [
    "fig, ax = plt.subplots()\n",
    "ax = sns.heatmap(spRDf, fmt = '')"
   ]
  },
  {
   "cell_type": "code",
   "execution_count": 34,
   "metadata": {},
   "outputs": [],
   "source": [
    "def generateSparseSame(depth):\n",
    "    sparseDimension = dict()\n",
    "    everyL = 0\n",
    "    partL = 0\n",
    "    for phrase in phrases:\n",
    "        words = phrase.split(' ')\n",
    "        for word in words:\n",
    "            length = len(word)\n",
    "            if length > depth:\n",
    "                for i,letter in enumerate(word):\n",
    "                    everyL += 1\n",
    "                    if i+depth < length:\n",
    "                        if word[i+depth] in [s for s in groups if letter in s][0]:\n",
    "                            incOrAdd((letter,word[i+depth]), sparseDimension)\n",
    "                            partL += 1\n",
    "                            \n",
    "    return (sparseDimension, everyL, partL)\n",
    "                "
   ]
  },
  {
   "cell_type": "code",
   "execution_count": 35,
   "metadata": {},
   "outputs": [],
   "source": [
    "buffer = generateSparseSame(1)\n",
    "sameSparse = buffer[0]\n",
    "summ = buffer[1]\n",
    "part = buffer[2]\n"
   ]
  },
  {
   "cell_type": "code",
   "execution_count": 36,
   "metadata": {},
   "outputs": [
    {
     "data": {
      "image/png": "[encoded data removed]",
      "text/plain": [
       "<Figure size 1080x1080 with 2 Axes>"
      ]
     },
     "metadata": {
      "needs_background": "light"
     },
     "output_type": "display_data"
    }
   ],
   "source": [
    "sparseSameArray = np.zeros((delta, delta))\n",
    "for key in sameSparse:\n",
    "    sparseSameArray[ord(key[0])-offset][ord(key[1])-offset] = sameSparse[key]\n",
    "fig, ax = plt.subplots()\n",
    "ax = sns.heatmap(sparseSameArray, fmt = '', xticklabels=x_axis_labels, yticklabels=x_axis_labels)"
   ]
  },
  {
   "cell_type": "code",
   "execution_count": 37,
   "metadata": {},
   "outputs": [
    {
     "data": {
      "image/png": "[encoded data removed]",
      "text/plain": [
       "<Figure size 1080x1080 with 2 Axes>"
      ]
     },
     "metadata": {
      "needs_background": "light"
     },
     "output_type": "display_data"
    }
   ],
   "source": [
    "sparSameDf = pd.DataFrame(sparseSameArray)\n",
    "sparSameDf.columns = x_axis_labels\n",
    "sparSameDf.index = x_axis_labels\n",
    "avgSame = sparSameDf.mean().mean()\n",
    "sSamepRDf = sparSameDf.drop(sparSameDf[sparSameDf.mean() < avgSame].index)\n",
    "sSamepRDf = sSamepRDf.drop(sSamepRDf.columns[sSamepRDf.mean() < avgSame], axis=1)\n",
    "fig, ax = plt.subplots()\n",
    "ax = sns.heatmap(sSamepRDf, fmt = '')"
   ]
  },
  {
   "cell_type": "code",
   "execution_count": 38,
   "metadata": {},
   "outputs": [
    {
     "data": {
      "text/plain": [
       "\"sSamepRDf[sSamepRDf.index == 'jj'].sum(axis=1).array[0]\""
      ]
     },
     "execution_count": 38,
     "metadata": {},
     "output_type": "execute_result"
    }
   ],
   "source": [
    "'''sSamepRDf[sSamepRDf.index == 'jj'].sum(axis=1).array[0]'''"
   ]
  },
  {
   "cell_type": "code",
   "execution_count": 39,
   "metadata": {},
   "outputs": [
    {
     "data": {
      "text/plain": [
       "0.0"
      ]
     },
     "execution_count": 39,
     "metadata": {},
     "output_type": "execute_result"
    }
   ],
   "source": [
    "sSamepRDf[sSamepRDf.index == 'jj'].sum().aggregate('sum')\n"
   ]
  },
  {
   "cell_type": "code",
   "execution_count": 40,
   "metadata": {},
   "outputs": [
    {
     "data": {
      "image/png": "[encoded data removed]",
      "text/plain": [
       "<Figure size 1080x1080 with 2 Axes>"
      ]
     },
     "metadata": {
      "needs_background": "light"
     },
     "output_type": "display_data"
    }
   ],
   "source": [
    "depth = []\n",
    "for row in labels: \n",
    "    drow = []\n",
    "    for label in row:\n",
    "        if label != '':\n",
    "            drow.append(sSamepRDf[sSamepRDf.index == label].sum().aggregate('sum'))\n",
    "        else: \n",
    "            drow.append(0)\n",
    "    depth.append(drow)\n",
    "fig, ax = plt.subplots()\n",
    "ax = sns.heatmap(np.array(depth), annot = np.array(labels), fmt = '')"
   ]
  },
  {
   "cell_type": "code",
   "execution_count": 41,
   "metadata": {},
   "outputs": [
    {
     "data": {
      "text/plain": [
       "0.18046580988179323"
      ]
     },
     "execution_count": 41,
     "metadata": {},
     "output_type": "execute_result"
    }
   ],
   "source": [
    "part/summ"
   ]
  },
  {
   "cell_type": "code",
   "execution_count": 42,
   "metadata": {},
   "outputs": [],
   "source": [
    "'''matcher function takes label and returns depth'''\n",
    "def drawLayout(labels, matcher, collapse): \n",
    "    depth = []\n",
    "    for row in labels: \n",
    "        if collapse == 1:\n",
    "            if row != '':\n",
    "                depth.append(matcher(row))\n",
    "            else: \n",
    "                depth.append(0)\n",
    "        else:\n",
    "            drow = []\n",
    "            for label in row:\n",
    "                if label != '':\n",
    "                    drow.append(matcher(label))\n",
    "                else: \n",
    "                    drow.append(0)\n",
    "            depth.append(drow)\n",
    "    fig, ax = plt.subplots()\n",
    "    if collapse == 1:   \n",
    "        ax = sns.heatmap(np.array([[x] for x in depth]),annot = np.array([[x] for x in labels]),fmt = '')\n",
    "    else:\n",
    "        ax = sns.heatmap(np.array(depth),annot = np.array(labels),fmt = '')"
   ]
  },
  {
   "cell_type": "code",
   "execution_count": 43,
   "metadata": {},
   "outputs": [],
   "source": [
    "def translationMatcher(label):\n",
    "    return sSamepRDf[sSamepRDf.index == label].sum().aggregate('sum')\n",
    "\n",
    "def translationMatcherZone(label):\n",
    "    lablist = [x for x in label]\n",
    "    return sSamepRDf[sSamepRDf.index.isin(lablist) ].sum().aggregate('sum')\n",
    "\n",
    "def translationMatcherZoneFull(label):\n",
    "    lablist = [x for x in label]\n",
    "    return spRDf[spRDf.index.isin(lablist) ].sum().aggregate('sum')"
   ]
  },
  {
   "cell_type": "code",
   "execution_count": 44,
   "metadata": {},
   "outputs": [],
   "source": [
    "labelsZone = ['йфя', 'цыч', 'увс', 'камипе', 'нртгоь', 'шлб', 'щдю', 'зжхэъ']"
   ]
  },
  {
   "cell_type": "code",
   "execution_count": 45,
   "metadata": {},
   "outputs": [
    {
     "data": {
      "image/png": "[encoded data removed]",
      "text/plain": [
       "<Figure size 1080x1080 with 2 Axes>"
      ]
     },
     "metadata": {
      "needs_background": "light"
     },
     "output_type": "display_data"
    }
   ],
   "source": [
    "drawLayout(labels, translationMatcher, 0)"
   ]
  },
  {
   "cell_type": "code",
   "execution_count": 46,
   "metadata": {},
   "outputs": [
    {
     "data": {
      "image/png": "[encoded data removed]",
      "text/plain": [
       "<Figure size 1080x1080 with 2 Axes>"
      ]
     },
     "metadata": {
      "needs_background": "light"
     },
     "output_type": "display_data"
    }
   ],
   "source": [
    "drawLayout(labelsZone, translationMatcherZone, 1)"
   ]
  },
  {
   "cell_type": "code",
   "execution_count": 47,
   "metadata": {},
   "outputs": [
    {
     "data": {
      "image/png": "[encoded data removed]",
      "text/plain": [
       "<Figure size 1080x1080 with 2 Axes>"
      ]
     },
     "metadata": {
      "needs_background": "light"
     },
     "output_type": "display_data"
    }
   ],
   "source": [
    "drawLayout(labelsZone, translationMatcherZoneFull, 1)"
   ]
  },
  {
   "cell_type": "code",
   "execution_count": 49,
   "metadata": {},
   "outputs": [
    {
     "data": {
      "text/plain": [
       "(3,)"
      ]
     },
     "execution_count": 49,
     "metadata": {},
     "output_type": "execute_result"
    }
   ],
   "source": [
    "np.array([1,2,3]).shape"
   ]
  },
  {
   "cell_type": "code",
   "execution_count": 51,
   "metadata": {},
   "outputs": [],
   "source": [
    "def calcUniformity(zones, transDf): #returns summ of positive differences between each zone and average divided by total cases\n",
    "    def prepUniform(): #returns array of cases by each zone\n",
    "        calculatedZones = []\n",
    "        for zone in zones:\n",
    "            lablist = [x for x in zone]\n",
    "            calculatedZones.append(transDf[transDf.index.isin(lablist)].sum().aggregate('sum'))\n",
    "        return calculatedZones\n",
    "    cZones = prepUniform()\n",
    "    avgLoad = sum(cZones) / len (cZones)\n",
    "    positiveDelta = [x - avgLoad for x in cZones if x > avgLoad]\n",
    "    return sum(positiveDelta)/transDf.sum().aggregate('sum')"
   ]
  },
  {
   "cell_type": "code",
   "execution_count": 52,
   "metadata": {},
   "outputs": [
    {
     "data": {
      "text/plain": [
       "0.3972855371193979"
      ]
     },
     "execution_count": 52,
     "metadata": {},
     "output_type": "execute_result"
    }
   ],
   "source": [
    "calcUniformity(labelsZone, sparDf)"
   ]
  },
  {
   "cell_type": "code",
   "execution_count": 54,
   "metadata": {},
   "outputs": [],
   "source": [
    "partsY =  ['йфяцычувскамипе', 'нртгоьшлбщдюзжхэъ']"
   ]
  },
  {
   "cell_type": "code",
   "execution_count": 76,
   "metadata": {},
   "outputs": [],
   "source": [
    "def calcAlteration(parts, transDf): #returns percentage of cases that are not alterated between hands\n",
    "    case = 0\n",
    "    for i, part in enumerate(parts):\n",
    "        lablist = [x for x in part]\n",
    "        labOplist = [x for x in parts[i - len(parts)]]\n",
    "        case += transDf[transDf.index.isin(lablist)][labOplist].sum().aggregate('sum')\n",
    "    return 1- (case/transDf.sum().aggregate('sum'))"
   ]
  },
  {
   "cell_type": "code",
   "execution_count": 77,
   "metadata": {},
   "outputs": [
    {
     "data": {
      "text/plain": [
       "0.5206742068155112"
      ]
     },
     "execution_count": 77,
     "metadata": {},
     "output_type": "execute_result"
    }
   ],
   "source": [
    "calcAlteration(partsY, sparDf)"
   ]
  },
  {
   "cell_type": "code",
   "execution_count": 78,
   "metadata": {},
   "outputs": [],
   "source": [
    "def calcRepeats(zones, transDf): #returns percentage of cases that lead to repetition of zone\n",
    "    depth = []\n",
    "    for zone in zones:\n",
    "        lablist = [x for x in zone]\n",
    "        depth.append(transDf[transDf.index.isin(lablist)][lablist].sum().aggregate('sum'))\n",
    "    return sum(depth)/transDf.sum().aggregate('sum')"
   ]
  },
  {
   "cell_type": "code",
   "execution_count": 79,
   "metadata": {},
   "outputs": [
    {
     "data": {
      "text/plain": [
       "0.2225897213256184"
      ]
     },
     "execution_count": 79,
     "metadata": {},
     "output_type": "execute_result"
    }
   ],
   "source": [
    "calcRepeats(labelsZone, sparDf)"
   ]
  },
  {
   "cell_type": "code",
   "execution_count": 276,
   "metadata": {},
   "outputs": [],
   "source": [
    "def calcProximity(labels, transDf):\n",
    "    cases = transDf[transDf.index.isin(labels[1][0:3] + labels[1][6:-2])].sum().aggregate('sum')\n",
    "    return 1 - (cases/transDf.sum().aggregate('sum'))"
   ]
  },
  {
   "cell_type": "code",
   "execution_count": 90,
   "metadata": {},
   "outputs": [],
   "source": [
    "def convoluteZone(labels): #returns array of str(letters) by finger zones\n",
    "    newZone = []\n",
    "    for x,row in enumerate(labels):\n",
    "        i = 0\n",
    "        for y,label in enumerate(row):\n",
    "            if y in [4,6] or y > 9:\n",
    "                newZone[i-1] += label\n",
    "            else: \n",
    "                if x==0:\n",
    "                    newZone.append(label)\n",
    "                else:\n",
    "                    newZone[i] += label\n",
    "                    i += 1\n",
    "    return newZone\n",
    "            "
   ]
  },
  {
   "cell_type": "code",
   "execution_count": 91,
   "metadata": {},
   "outputs": [
    {
     "data": {
      "text/plain": [
       "['йфя', 'цыч', 'увс', 'кеапми', 'нгроть', 'шлб', 'щдю', 'зхъжэ']"
      ]
     },
     "execution_count": 91,
     "metadata": {},
     "output_type": "execute_result"
    }
   ],
   "source": [
    "convoluteZone(labels)"
   ]
  },
  {
   "cell_type": "code",
   "execution_count": 94,
   "metadata": {},
   "outputs": [],
   "source": [
    "def convoluteParts(labels):\n",
    "    newPart = []\n",
    "    for x,row in enumerate(labels):\n",
    "        i = -1\n",
    "        for y,label in enumerate(row):\n",
    "            if x==0 and (y==0 or y==5):\n",
    "                newPart.append(label)\n",
    "            else:\n",
    "                if y==0 or y==5:\n",
    "                    i+=1\n",
    "                newPart[i] += label\n",
    "    return newPart"
   ]
  },
  {
   "cell_type": "code",
   "execution_count": 95,
   "metadata": {},
   "outputs": [
    {
     "data": {
      "text/plain": [
       "['йцукефывапячсми', 'нгшщзхъролджэтьбю']"
      ]
     },
     "execution_count": 95,
     "metadata": {},
     "output_type": "execute_result"
    }
   ],
   "source": [
    "convoluteParts(labels)"
   ]
  },
  {
   "cell_type": "code",
   "execution_count": 277,
   "metadata": {},
   "outputs": [],
   "source": [
    "def calcResults(labels, transDf):\n",
    "    zones = convoluteZone(labels)\n",
    "    parts = convoluteParts(labels)\n",
    "    result = []\n",
    "    result.append(calcUniformity(zones,transDf))\n",
    "    result.append(calcAlteration(parts,transDf))\n",
    "    result.append(calcRepeats(zones,transDf))\n",
    "    result.append(calcProximity(labels,transDf))\n",
    "    return result"
   ]
  },
  {
   "cell_type": "code",
   "execution_count": null,
   "metadata": {},
   "outputs": [],
   "source": []
  },
  {
   "cell_type": "code",
   "execution_count": 278,
   "metadata": {},
   "outputs": [],
   "source": [
    "def fullIteration(labels_, transDf):\n",
    "    results = []\n",
    "    def exchange(array, x,y,z,c):\n",
    "        newArr = copy.deepcopy(array)\n",
    "        \n",
    "        newArr[x][y], newArr[z][c] = newArr[z][c], newArr[x][y]\n",
    "        return newArr\n",
    "    \n",
    "    initResult = calcResults(labels_,transDf)\n",
    "    multipliers = [1/x for x in initResult]\n",
    "    sumInitResult = sum(initResult)\n",
    "    for x, row in enumerate(labels_):\n",
    "        for y, label in enumerate(row):\n",
    "            for z, rowSec in enumerate(labels_):\n",
    "                for c, labelSec in enumerate(rowSec):\n",
    "                    if x != z and y != c and x >= z:\n",
    "\n",
    "                        newLabels = exchange(labels_, x,y,z,c)\n",
    "                        newResult = calcResults(newLabels, transDf)\n",
    "                        weightedResult = [x*multipliers[i] for i,x in enumerate(newResult)]\n",
    "                        sumNewResult =  sum(weightedResult)#newResult)\n",
    "                        if sumNewResult < len(initResult): #sumInitResult:\n",
    "                            weightedResult += [sumNewResult,x,y,z,c,label,labelSec]\n",
    "                            results.append(weightedResult)\n",
    "    return results"
   ]
  },
  {
   "cell_type": "code",
   "execution_count": 279,
   "metadata": {},
   "outputs": [],
   "source": [
    "test = fullIteration(labels, sparDf)"
   ]
  },
  {
   "cell_type": "code",
   "execution_count": 203,
   "metadata": {},
   "outputs": [
    {
     "data": {
      "text/plain": [
       "[['й', 'ц', 'у', 'к', 'е', 'н', 'г', 'ш', 'щ', 'з', 'х', 'ъ'],\n",
       " ['ф', 'ы', 'в', 'а', 'п', 'р', 'о', 'л', 'д', 'ж', 'э', ''],\n",
       " ['я', 'ч', 'с', 'м', 'и', 'т', 'ь', 'б', 'ю', '', '', '']]"
      ]
     },
     "execution_count": 203,
     "metadata": {},
     "output_type": "execute_result"
    }
   ],
   "source": [
    "labels"
   ]
  },
  {
   "cell_type": "code",
   "execution_count": 268,
   "metadata": {},
   "outputs": [],
   "source": [
    "def dfResults(result):\n",
    "    columns = ['Uniformity', 'Alteration', 'Repeats','Proximity', 'Summ', 'x', 'y', 'z', 'c', 'from', 'to']\n",
    "    return pd.DataFrame(np.array(result), columns=columns)\n",
    "    "
   ]
  },
  {
   "cell_type": "code",
   "execution_count": 280,
   "metadata": {},
   "outputs": [
    {
     "data": {
      "text/plain": [
       "[0.3972855371193979,\n",
       " 0.5206742068155112,\n",
       " 0.2225897213256184,\n",
       " 0.7481253439735829]"
      ]
     },
     "execution_count": 280,
     "metadata": {},
     "output_type": "execute_result"
    }
   ],
   "source": [
    "calcResults(labels,sparDf)"
   ]
  },
  {
   "cell_type": "code",
   "execution_count": 281,
   "metadata": {},
   "outputs": [],
   "source": [
    "dfFst = dfResults(test)"
   ]
  },
  {
   "cell_type": "code",
   "execution_count": 193,
   "metadata": {},
   "outputs": [
    {
     "data": {
      "text/html": [
       "<div>\n",
       "<style scoped>\n",
       "    .dataframe tbody tr th:only-of-type {\n",
       "        vertical-align: middle;\n",
       "    }\n",
       "\n",
       "    .dataframe tbody tr th {\n",
       "        vertical-align: top;\n",
       "    }\n",
       "\n",
       "    .dataframe thead th {\n",
       "        text-align: right;\n",
       "    }\n",
       "</style>\n",
       "<table border=\"1\" class=\"dataframe\">\n",
       "  <thead>\n",
       "    <tr style=\"text-align: right;\">\n",
       "      <th></th>\n",
       "      <th>Uniformity</th>\n",
       "      <th>Alteration</th>\n",
       "      <th>Repeats</th>\n",
       "      <th>Summ</th>\n",
       "      <th>x</th>\n",
       "      <th>y</th>\n",
       "      <th>z</th>\n",
       "      <th>c</th>\n",
       "      <th>from</th>\n",
       "      <th>to</th>\n",
       "    </tr>\n",
       "  </thead>\n",
       "  <tbody>\n",
       "    <tr>\n",
       "      <th>435</th>\n",
       "      <td>0.32025567463445836</td>\n",
       "      <td>0.48476382959734643</td>\n",
       "      <td>0.17494287249550045</td>\n",
       "      <td>0.9799623767273052</td>\n",
       "      <td>2</td>\n",
       "      <td>5</td>\n",
       "      <td>1</td>\n",
       "      <td>0</td>\n",
       "      <td>т</td>\n",
       "      <td>ф</td>\n",
       "    </tr>\n",
       "    <tr>\n",
       "      <th>194</th>\n",
       "      <td>0.32025567463445836</td>\n",
       "      <td>0.48476382959734643</td>\n",
       "      <td>0.17494287249550045</td>\n",
       "      <td>0.9799623767273052</td>\n",
       "      <td>1</td>\n",
       "      <td>0</td>\n",
       "      <td>2</td>\n",
       "      <td>5</td>\n",
       "      <td>ф</td>\n",
       "      <td>т</td>\n",
       "    </tr>\n",
       "    <tr>\n",
       "      <th>11</th>\n",
       "      <td>0.32090945685641614</td>\n",
       "      <td>0.48913043478260865</td>\n",
       "      <td>0.17730676121911676</td>\n",
       "      <td>0.9873466528581416</td>\n",
       "      <td>0</td>\n",
       "      <td>0</td>\n",
       "      <td>2</td>\n",
       "      <td>5</td>\n",
       "      <td>й</td>\n",
       "      <td>т</td>\n",
       "    </tr>\n",
       "    <tr>\n",
       "      <th>425</th>\n",
       "      <td>0.32090945685641614</td>\n",
       "      <td>0.48913043478260865</td>\n",
       "      <td>0.17730676121911676</td>\n",
       "      <td>0.9873466528581416</td>\n",
       "      <td>2</td>\n",
       "      <td>5</td>\n",
       "      <td>0</td>\n",
       "      <td>0</td>\n",
       "      <td>т</td>\n",
       "      <td>й</td>\n",
       "    </tr>\n",
       "    <tr>\n",
       "      <th>25</th>\n",
       "      <td>0.3204385849112734</td>\n",
       "      <td>0.48693806802124084</td>\n",
       "      <td>0.18118087990301804</td>\n",
       "      <td>0.9885575328355323</td>\n",
       "      <td>0</td>\n",
       "      <td>1</td>\n",
       "      <td>2</td>\n",
       "      <td>5</td>\n",
       "      <td>ц</td>\n",
       "      <td>т</td>\n",
       "    </tr>\n",
       "    <tr>\n",
       "      <th>...</th>\n",
       "      <td>...</td>\n",
       "      <td>...</td>\n",
       "      <td>...</td>\n",
       "      <td>...</td>\n",
       "      <td>...</td>\n",
       "      <td>...</td>\n",
       "      <td>...</td>\n",
       "      <td>...</td>\n",
       "      <td>...</td>\n",
       "      <td>...</td>\n",
       "    </tr>\n",
       "    <tr>\n",
       "      <th>133</th>\n",
       "      <td>0.3972855371193979</td>\n",
       "      <td>0.5206742068155112</td>\n",
       "      <td>0.22251116519656697</td>\n",
       "      <td>1.1404709091314762</td>\n",
       "      <td>0</td>\n",
       "      <td>8</td>\n",
       "      <td>1</td>\n",
       "      <td>11</td>\n",
       "      <td>щ</td>\n",
       "      <td></td>\n",
       "    </tr>\n",
       "    <tr>\n",
       "      <th>139</th>\n",
       "      <td>0.3972855371193979</td>\n",
       "      <td>0.5206742068155112</td>\n",
       "      <td>0.22251116519656697</td>\n",
       "      <td>1.1404709091314762</td>\n",
       "      <td>0</td>\n",
       "      <td>8</td>\n",
       "      <td>2</td>\n",
       "      <td>9</td>\n",
       "      <td>щ</td>\n",
       "      <td></td>\n",
       "    </tr>\n",
       "    <tr>\n",
       "      <th>140</th>\n",
       "      <td>0.3972855371193979</td>\n",
       "      <td>0.5206742068155112</td>\n",
       "      <td>0.22251116519656697</td>\n",
       "      <td>1.1404709091314762</td>\n",
       "      <td>0</td>\n",
       "      <td>8</td>\n",
       "      <td>2</td>\n",
       "      <td>10</td>\n",
       "      <td>щ</td>\n",
       "      <td></td>\n",
       "    </tr>\n",
       "    <tr>\n",
       "      <th>141</th>\n",
       "      <td>0.3972855371193979</td>\n",
       "      <td>0.5206742068155112</td>\n",
       "      <td>0.22251116519656697</td>\n",
       "      <td>1.1404709091314762</td>\n",
       "      <td>0</td>\n",
       "      <td>8</td>\n",
       "      <td>2</td>\n",
       "      <td>11</td>\n",
       "      <td>щ</td>\n",
       "      <td></td>\n",
       "    </tr>\n",
       "    <tr>\n",
       "      <th>489</th>\n",
       "      <td>0.3972855371193979</td>\n",
       "      <td>0.5206742068155112</td>\n",
       "      <td>0.22251116519656697</td>\n",
       "      <td>1.1404709091314762</td>\n",
       "      <td>2</td>\n",
       "      <td>9</td>\n",
       "      <td>0</td>\n",
       "      <td>8</td>\n",
       "      <td></td>\n",
       "      <td>щ</td>\n",
       "    </tr>\n",
       "  </tbody>\n",
       "</table>\n",
       "<p>522 rows × 10 columns</p>\n",
       "</div>"
      ],
      "text/plain": [
       "              Uniformity           Alteration              Repeats  \\\n",
       "435  0.32025567463445836  0.48476382959734643  0.17494287249550045   \n",
       "194  0.32025567463445836  0.48476382959734643  0.17494287249550045   \n",
       "11   0.32090945685641614  0.48913043478260865  0.17730676121911676   \n",
       "425  0.32090945685641614  0.48913043478260865  0.17730676121911676   \n",
       "25    0.3204385849112734  0.48693806802124084  0.18118087990301804   \n",
       "..                   ...                  ...                  ...   \n",
       "133   0.3972855371193979   0.5206742068155112  0.22251116519656697   \n",
       "139   0.3972855371193979   0.5206742068155112  0.22251116519656697   \n",
       "140   0.3972855371193979   0.5206742068155112  0.22251116519656697   \n",
       "141   0.3972855371193979   0.5206742068155112  0.22251116519656697   \n",
       "489   0.3972855371193979   0.5206742068155112  0.22251116519656697   \n",
       "\n",
       "                   Summ  x  y  z   c from to  \n",
       "435  0.9799623767273052  2  5  1   0    т  ф  \n",
       "194  0.9799623767273052  1  0  2   5    ф  т  \n",
       "11   0.9873466528581416  0  0  2   5    й  т  \n",
       "425  0.9873466528581416  2  5  0   0    т  й  \n",
       "25   0.9885575328355323  0  1  2   5    ц  т  \n",
       "..                  ... .. .. ..  ..  ... ..  \n",
       "133  1.1404709091314762  0  8  1  11    щ     \n",
       "139  1.1404709091314762  0  8  2   9    щ     \n",
       "140  1.1404709091314762  0  8  2  10    щ     \n",
       "141  1.1404709091314762  0  8  2  11    щ     \n",
       "489  1.1404709091314762  2  9  0   8       щ  \n",
       "\n",
       "[522 rows x 10 columns]"
      ]
     },
     "execution_count": 193,
     "metadata": {},
     "output_type": "execute_result"
    }
   ],
   "source": [
    "dfFst.sort_values(by=['Summ'])"
   ]
  },
  {
   "cell_type": "code",
   "execution_count": 285,
   "metadata": {},
   "outputs": [
    {
     "data": {
      "text/html": [
       "<div>\n",
       "<style scoped>\n",
       "    .dataframe tbody tr th:only-of-type {\n",
       "        vertical-align: middle;\n",
       "    }\n",
       "\n",
       "    .dataframe tbody tr th {\n",
       "        vertical-align: top;\n",
       "    }\n",
       "\n",
       "    .dataframe thead th {\n",
       "        text-align: right;\n",
       "    }\n",
       "</style>\n",
       "<table border=\"1\" class=\"dataframe\">\n",
       "  <thead>\n",
       "    <tr style=\"text-align: right;\">\n",
       "      <th></th>\n",
       "      <th>Uniformity</th>\n",
       "      <th>Alteration</th>\n",
       "      <th>Repeats</th>\n",
       "      <th>Proximity</th>\n",
       "      <th>Summ</th>\n",
       "      <th>x</th>\n",
       "      <th>y</th>\n",
       "      <th>z</th>\n",
       "      <th>c</th>\n",
       "      <th>from</th>\n",
       "      <th>to</th>\n",
       "    </tr>\n",
       "  </thead>\n",
       "  <tbody>\n",
       "    <tr>\n",
       "      <th>165</th>\n",
       "      <td>0.8061095728692751</td>\n",
       "      <td>0.9310310041325154</td>\n",
       "      <td>0.7859431758737093</td>\n",
       "      <td>0.8970361542949419</td>\n",
       "      <td>3.4201199071704416</td>\n",
       "      <td>2</td>\n",
       "      <td>5</td>\n",
       "      <td>1</td>\n",
       "      <td>0</td>\n",
       "      <td>т</td>\n",
       "      <td>ф</td>\n",
       "    </tr>\n",
       "    <tr>\n",
       "      <th>166</th>\n",
       "      <td>0.8276904590720745</td>\n",
       "      <td>0.9351104012798387</td>\n",
       "      <td>0.8057619760119533</td>\n",
       "      <td>0.9084964985215566</td>\n",
       "      <td>3.477059334885423</td>\n",
       "      <td>2</td>\n",
       "      <td>5</td>\n",
       "      <td>1</td>\n",
       "      <td>1</td>\n",
       "      <td>т</td>\n",
       "      <td>ы</td>\n",
       "    </tr>\n",
       "    <tr>\n",
       "      <th>155</th>\n",
       "      <td>0.807755195880619</td>\n",
       "      <td>0.9394174483390928</td>\n",
       "      <td>0.7965631124527136</td>\n",
       "      <td>1.0</td>\n",
       "      <td>3.5437357566724255</td>\n",
       "      <td>2</td>\n",
       "      <td>5</td>\n",
       "      <td>0</td>\n",
       "      <td>0</td>\n",
       "      <td>т</td>\n",
       "      <td>й</td>\n",
       "    </tr>\n",
       "    <tr>\n",
       "      <th>64</th>\n",
       "      <td>0.8236697100649767</td>\n",
       "      <td>0.9139197654580985</td>\n",
       "      <td>0.9077378000202563</td>\n",
       "      <td>0.9063613143017268</td>\n",
       "      <td>3.551688589845058</td>\n",
       "      <td>1</td>\n",
       "      <td>9</td>\n",
       "      <td>0</td>\n",
       "      <td>4</td>\n",
       "      <td>ж</td>\n",
       "      <td>е</td>\n",
       "    </tr>\n",
       "    <tr>\n",
       "      <th>4</th>\n",
       "      <td>0.8282871656030275</td>\n",
       "      <td>0.9233199213313322</td>\n",
       "      <td>0.894231863568637</td>\n",
       "      <td>0.9088133743987903</td>\n",
       "      <td>3.554652324901787</td>\n",
       "      <td>1</td>\n",
       "      <td>0</td>\n",
       "      <td>0</td>\n",
       "      <td>5</td>\n",
       "      <td>ф</td>\n",
       "      <td>н</td>\n",
       "    </tr>\n",
       "    <tr>\n",
       "      <th>156</th>\n",
       "      <td>0.8065699729083535</td>\n",
       "      <td>0.9352068177131271</td>\n",
       "      <td>0.813967863493459</td>\n",
       "      <td>1.0</td>\n",
       "      <td>3.5557446541149393</td>\n",
       "      <td>2</td>\n",
       "      <td>5</td>\n",
       "      <td>0</td>\n",
       "      <td>1</td>\n",
       "      <td>т</td>\n",
       "      <td>ц</td>\n",
       "    </tr>\n",
       "    <tr>\n",
       "      <th>171</th>\n",
       "      <td>0.8379327511739616</td>\n",
       "      <td>1.0</td>\n",
       "      <td>0.8095031256297464</td>\n",
       "      <td>0.9139355797554837</td>\n",
       "      <td>3.5613714565591916</td>\n",
       "      <td>2</td>\n",
       "      <td>5</td>\n",
       "      <td>1</td>\n",
       "      <td>9</td>\n",
       "      <td>т</td>\n",
       "      <td>ж</td>\n",
       "    </tr>\n",
       "    <tr>\n",
       "      <th>3</th>\n",
       "      <td>0.7918465317602901</td>\n",
       "      <td>1.0</td>\n",
       "      <td>0.8836495159894208</td>\n",
       "      <td>0.8894618888411849</td>\n",
       "      <td>3.5649579365908957</td>\n",
       "      <td>1</td>\n",
       "      <td>0</td>\n",
       "      <td>0</td>\n",
       "      <td>4</td>\n",
       "      <td>ф</td>\n",
       "      <td>е</td>\n",
       "    </tr>\n",
       "    <tr>\n",
       "      <th>172</th>\n",
       "      <td>0.8104081999177482</td>\n",
       "      <td>1.0</td>\n",
       "      <td>0.7672405602013935</td>\n",
       "      <td>1.0</td>\n",
       "      <td>3.577648760119142</td>\n",
       "      <td>2</td>\n",
       "      <td>5</td>\n",
       "      <td>1</td>\n",
       "      <td>10</td>\n",
       "      <td>т</td>\n",
       "      <td>э</td>\n",
       "    </tr>\n",
       "    <tr>\n",
       "      <th>161</th>\n",
       "      <td>0.8070871185685128</td>\n",
       "      <td>1.0</td>\n",
       "      <td>0.7720571728686777</td>\n",
       "      <td>1.0</td>\n",
       "      <td>3.5791442914371907</td>\n",
       "      <td>2</td>\n",
       "      <td>5</td>\n",
       "      <td>0</td>\n",
       "      <td>8</td>\n",
       "      <td>т</td>\n",
       "      <td>щ</td>\n",
       "    </tr>\n",
       "    <tr>\n",
       "      <th>173</th>\n",
       "      <td>0.800411610505077</td>\n",
       "      <td>1.0</td>\n",
       "      <td>0.7818125624525569</td>\n",
       "      <td>1.0</td>\n",
       "      <td>3.582224172957634</td>\n",
       "      <td>2</td>\n",
       "      <td>5</td>\n",
       "      <td>1</td>\n",
       "      <td>11</td>\n",
       "      <td>т</td>\n",
       "      <td></td>\n",
       "    </tr>\n",
       "    <tr>\n",
       "      <th>164</th>\n",
       "      <td>0.8007602743212024</td>\n",
       "      <td>1.0</td>\n",
       "      <td>0.781773929313886</td>\n",
       "      <td>1.0</td>\n",
       "      <td>3.5825342036350887</td>\n",
       "      <td>2</td>\n",
       "      <td>5</td>\n",
       "      <td>0</td>\n",
       "      <td>11</td>\n",
       "      <td>т</td>\n",
       "      <td>ъ</td>\n",
       "    </tr>\n",
       "    <tr>\n",
       "      <th>13</th>\n",
       "      <td>0.849868051805827</td>\n",
       "      <td>0.9165033687723242</td>\n",
       "      <td>0.9096005437875302</td>\n",
       "      <td>0.9202737186254049</td>\n",
       "      <td>3.5962456829910865</td>\n",
       "      <td>1</td>\n",
       "      <td>1</td>\n",
       "      <td>0</td>\n",
       "      <td>5</td>\n",
       "      <td>ы</td>\n",
       "      <td>н</td>\n",
       "    </tr>\n",
       "    <tr>\n",
       "      <th>54</th>\n",
       "      <td>0.7956853437760876</td>\n",
       "      <td>1.0</td>\n",
       "      <td>0.6820503128762163</td>\n",
       "      <td>1.1229779746412314</td>\n",
       "      <td>3.6007136312935355</td>\n",
       "      <td>1</td>\n",
       "      <td>6</td>\n",
       "      <td>0</td>\n",
       "      <td>10</td>\n",
       "      <td>о</td>\n",
       "      <td>х</td>\n",
       "    </tr>\n",
       "    <tr>\n",
       "      <th>222</th>\n",
       "      <td>0.801593323438925</td>\n",
       "      <td>0.9255147343057702</td>\n",
       "      <td>0.8777584844115285</td>\n",
       "      <td>1.0</td>\n",
       "      <td>3.6048665421562234</td>\n",
       "      <td>2</td>\n",
       "      <td>9</td>\n",
       "      <td>1</td>\n",
       "      <td>3</td>\n",
       "      <td></td>\n",
       "      <td>а</td>\n",
       "    </tr>\n",
       "  </tbody>\n",
       "</table>\n",
       "</div>"
      ],
      "text/plain": [
       "             Uniformity          Alteration             Repeats  \\\n",
       "165  0.8061095728692751  0.9310310041325154  0.7859431758737093   \n",
       "166  0.8276904590720745  0.9351104012798387  0.8057619760119533   \n",
       "155   0.807755195880619  0.9394174483390928  0.7965631124527136   \n",
       "64   0.8236697100649767  0.9139197654580985  0.9077378000202563   \n",
       "4    0.8282871656030275  0.9233199213313322   0.894231863568637   \n",
       "156  0.8065699729083535  0.9352068177131271   0.813967863493459   \n",
       "171  0.8379327511739616                 1.0  0.8095031256297464   \n",
       "3    0.7918465317602901                 1.0  0.8836495159894208   \n",
       "172  0.8104081999177482                 1.0  0.7672405602013935   \n",
       "161  0.8070871185685128                 1.0  0.7720571728686777   \n",
       "173   0.800411610505077                 1.0  0.7818125624525569   \n",
       "164  0.8007602743212024                 1.0   0.781773929313886   \n",
       "13    0.849868051805827  0.9165033687723242  0.9096005437875302   \n",
       "54   0.7956853437760876                 1.0  0.6820503128762163   \n",
       "222   0.801593323438925  0.9255147343057702  0.8777584844115285   \n",
       "\n",
       "              Proximity                Summ  x  y  z   c from to  \n",
       "165  0.8970361542949419  3.4201199071704416  2  5  1   0    т  ф  \n",
       "166  0.9084964985215566   3.477059334885423  2  5  1   1    т  ы  \n",
       "155                 1.0  3.5437357566724255  2  5  0   0    т  й  \n",
       "64   0.9063613143017268   3.551688589845058  1  9  0   4    ж  е  \n",
       "4    0.9088133743987903   3.554652324901787  1  0  0   5    ф  н  \n",
       "156                 1.0  3.5557446541149393  2  5  0   1    т  ц  \n",
       "171  0.9139355797554837  3.5613714565591916  2  5  1   9    т  ж  \n",
       "3    0.8894618888411849  3.5649579365908957  1  0  0   4    ф  е  \n",
       "172                 1.0   3.577648760119142  2  5  1  10    т  э  \n",
       "161                 1.0  3.5791442914371907  2  5  0   8    т  щ  \n",
       "173                 1.0   3.582224172957634  2  5  1  11    т     \n",
       "164                 1.0  3.5825342036350887  2  5  0  11    т  ъ  \n",
       "13   0.9202737186254049  3.5962456829910865  1  1  0   5    ы  н  \n",
       "54   1.1229779746412314  3.6007136312935355  1  6  0  10    о  х  \n",
       "222                 1.0  3.6048665421562234  2  9  1   3       а  "
      ]
     },
     "execution_count": 285,
     "metadata": {},
     "output_type": "execute_result"
    }
   ],
   "source": [
    "dfFst.sort_values(by=['Summ']).head(15)"
   ]
  },
  {
   "cell_type": "code",
   "execution_count": 237,
   "metadata": {},
   "outputs": [],
   "source": [
    "dyctL = [['ц','ь','я','','','з','в','к','д','ч','ш','щ'],\n",
    "         ['у','и','е','о','а','л','н','т','с','р','й',''],\n",
    "         ['ф','э','х','ы','ю','б','м','п','г','ж','','']]"
   ]
  },
  {
   "cell_type": "code",
   "execution_count": 283,
   "metadata": {},
   "outputs": [
    {
     "data": {
      "text/plain": [
       "[0.21679225576016303,\n",
       " 0.8141396848830118,\n",
       " 0.04077063097770307,\n",
       " 0.5841605743057312]"
      ]
     },
     "execution_count": 283,
     "metadata": {},
     "output_type": "execute_result"
    }
   ],
   "source": [
    "calcResults(dyctL,sparDf)"
   ]
  }
 ],
 "metadata": {
  "kernelspec": {
   "display_name": "Python 3",
   "language": "python",
   "name": "python3"
  },
  "language_info": {
   "codemirror_mode": {
    "name": "ipython",
    "version": 3
   },
   "file_extension": ".py",
   "mimetype": "text/x-python",
   "name": "python",
   "nbconvert_exporter": "python",
   "pygments_lexer": "ipython3",
   "version": "3.6.9"
  }
 },
 "nbformat": 4,
 "nbformat_minor": 4
}
